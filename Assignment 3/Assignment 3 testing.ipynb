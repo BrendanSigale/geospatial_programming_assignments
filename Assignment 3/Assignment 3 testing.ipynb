{
 "cells": [
  {
   "cell_type": "code",
   "execution_count": 1,
   "metadata": {},
   "outputs": [],
   "source": [
    "import arcpy\n",
    "from arcpy import env\n",
    "import os\n",
    "arcpy.env.overwriteOutput = True"
   ]
  },
  {
   "cell_type": "code",
   "execution_count": 2,
   "metadata": {
    "scrolled": true
   },
   "outputs": [
    {
     "name": "stdout",
     "output_type": "stream",
     "text": [
      "E:\\My Drive\\School\\College\\06 Grad Full\\Semester 2\\Geospatial Programming\\Assignment 3/hw3.gdb\n"
     ]
    }
   ],
   "source": [
    "arcpy.env.workspace = r\"E:\\My Drive\\School\\College\\06 Grad Full\\Semester 2\\Geospatial Programming\\Assignment 3/hw3.gdb\"\n",
    "print(arcpy.env.workspace)"
   ]
  },
  {
   "cell_type": "markdown",
   "metadata": {
    "heading_collapsed": true
   },
   "source": [
    "## Assignment 3 Testing"
   ]
  },
  {
   "cell_type": "code",
   "execution_count": 11,
   "metadata": {
    "hidden": true
   },
   "outputs": [],
   "source": [
    "def printFeatureClassNames(workspace):\n",
    "    fcList = arcpy.ListFeatureClasses()\n",
    "    \n",
    "    for fc in fcList:\n",
    "        geom_type = arcpy.Describe(fc).shapeType\n",
    "        print(\"{0} is a {1} feature class\".format(fc, geom_type))"
   ]
  },
  {
   "cell_type": "code",
   "execution_count": 12,
   "metadata": {
    "hidden": true,
    "scrolled": false
   },
   "outputs": [
    {
     "name": "stdout",
     "output_type": "stream",
     "text": [
      "bike_routes is a Polyline feature class\n",
      "facilities is a Point feature class\n",
      "hospitals is a Point feature class\n",
      "parks is a Polygon feature class\n",
      "zip_areas is a Polygon feature class\n",
      "block_groups is a Polygon feature class\n",
      "facilities_in_block_group is a Polygon feature class\n"
     ]
    }
   ],
   "source": [
    "printFeatureClassNames(arcpy.env.workspace)"
   ]
  },
  {
   "cell_type": "code",
   "execution_count": 13,
   "metadata": {
    "hidden": true
   },
   "outputs": [
    {
     "name": "stdout",
     "output_type": "stream",
     "text": [
      "OBJECTID_1 Integer\n",
      "OBJECTID Integer\n",
      "ROUTE_NUM SmallInteger\n",
      "SHAPE_LENG Double\n",
      "SHAPE_LE_1 Double\n",
      "SHAPE_Le_2 Double\n",
      "Shape_Le_3 Double\n",
      "Shape_Length Double\n"
     ]
    }
   ],
   "source": [
    "fieldlist = arcpy.ListFields('bike_routes')\n",
    "\n",
    "numberList = ['Double', 'Integer', 'SmallInteger', 'Single']\n",
    "for field in fieldlist:\n",
    "    if field.type in numberList:\n",
    "        print(field.name, field.type)"
   ]
  },
  {
   "cell_type": "code",
   "execution_count": 14,
   "metadata": {
    "hidden": true
   },
   "outputs": [],
   "source": [
    "def printNumericalFieldNames(inputFc, workspace):\n",
    "    \n",
    "    fieldlist = arcpy.ListFields(inputFc)\n",
    "\n",
    "    numberList = ['Double', 'Integer', 'SmallInteger', 'Single']\n",
    "    for field in fieldlist:\n",
    "        if field.type in numberList:\n",
    "            print(field.name, field.type)"
   ]
  },
  {
   "cell_type": "code",
   "execution_count": 15,
   "metadata": {
    "hidden": true
   },
   "outputs": [
    {
     "name": "stdout",
     "output_type": "stream",
     "text": [
      "OBJECTID_1 Integer\n",
      "OBJECTID Integer\n",
      "ROUTE_NUM SmallInteger\n",
      "SHAPE_LENG Double\n",
      "SHAPE_LE_1 Double\n",
      "SHAPE_Le_2 Double\n",
      "Shape_Le_3 Double\n",
      "Shape_Length Double\n"
     ]
    }
   ],
   "source": [
    "printNumericalFieldNames('bike_routes', arcpy.env.workspace)"
   ]
  },
  {
   "cell_type": "code",
   "execution_count": 35,
   "metadata": {
    "hidden": true
   },
   "outputs": [],
   "source": [
    "def exportFeatureClassesByShapeType(input_geodatabase, shapeType, output_geodatabase):\n",
    "    \n",
    "    original_env = str(arcpy.env.workspace)\n",
    "    print(\"Current Workspace: \" + arcpy.env.workspace)\n",
    "    print(\"Beginning Database Creation\")\n",
    "    \n",
    "    arcpy.management.CreateFileGDB(arcpy.env.workspace, output_geodatabase)\n",
    "\n",
    "    arcpy.env.workspace = input_geodatabase\n",
    "    print(\"Current Workspace: \" + arcpy.env.workspace)\n",
    "\n",
    "    fcList = arcpy.ListFeatureClasses()\n",
    "\n",
    "    for fc in fcList:\n",
    "        geom_type = arcpy.Describe(fc).shapeType\n",
    "        if geom_type == shapeType:\n",
    "            outFeatureClass = os.path.join(output_geodatabase, fc.strip(\".shp\"))\n",
    "            arcpy.CopyFeatures_management(fc, outFeatureClass)\n",
    "            print(\"--- Created copy of: \" + fc + \" located at: \" + outFeatureClass)\n",
    "            \n",
    "    arcpy.env.workspace = original_env\n",
    "    print(\"Copy Complete\")\n",
    "    print(\"Current Workspace: \" + arcpy.env.workspace)"
   ]
  },
  {
   "cell_type": "code",
   "execution_count": 19,
   "metadata": {
    "hidden": true
   },
   "outputs": [],
   "source": [
    "gdb_input = r\"E:\\My Drive\\School\\College\\06 Grad Full\\Semester 2\\Geospatial Programming\\Assignment 3\\hw3.gdb\"\n",
    "gdb_output = \"test.gdb\"\n",
    "shapeType = 'Polygon'\n",
    "\n",
    "arcpy.management.CreateFileGDB(arcpy.env.workspace, gdb_output)\n",
    "\n",
    "arcpy.env.workspace = gdb_input\n",
    "\n",
    "fcList = arcpy.ListFeatureClasses()\n",
    "    \n",
    "for fc in fcList:\n",
    "    geom_type = arcpy.Describe(fc).shapeType\n",
    "    if geom_type == shapeType:\n",
    "        outFeatureClass = os.path.join(gdb_output, fc.strip(\".shp\"))\n",
    "        arcpy.CopyFeatures_management(fc, outFeatureClass)"
   ]
  },
  {
   "cell_type": "code",
   "execution_count": 36,
   "metadata": {
    "hidden": true
   },
   "outputs": [
    {
     "name": "stdout",
     "output_type": "stream",
     "text": [
      "Current Workspace: E:\\My Drive\\School\\College\\06 Grad Full\\Semester 2\\Geospatial Programming\\Assignment 3\n",
      "Beginning Database Creation\n",
      "Current Workspace: E:\\My Drive\\School\\College\\06 Grad Full\\Semester 2\\Geospatial Programming\\Assignment 3\\hw3.gdb\n",
      "--- Created copy of: bike_routeslocated at: test2.gdb\\bike_route\n",
      "Copy Complete\n",
      "Current Workspace: E:\\My Drive\\School\\College\\06 Grad Full\\Semester 2\\Geospatial Programming\\Assignment 3\n"
     ]
    }
   ],
   "source": [
    "exportFeatureClassesByShapeType(r\"E:\\My Drive\\School\\College\\06 Grad Full\\Semester 2\\Geospatial Programming\\Assignment 3\\hw3.gdb\", 'Polyline', 'test2.gdb')"
   ]
  },
  {
   "cell_type": "code",
   "execution_count": 28,
   "metadata": {
    "hidden": true
   },
   "outputs": [
    {
     "data": {
      "text/plain": [
       "'E:\\\\My Drive\\\\School\\\\College\\\\06 Grad Full\\\\Semester 2\\\\Geospatial Programming\\\\Assignment 3'"
      ]
     },
     "execution_count": 28,
     "metadata": {},
     "output_type": "execute_result"
    }
   ],
   "source": [
    "arcpy.env.workspace"
   ]
  },
  {
   "cell_type": "code",
   "execution_count": 26,
   "metadata": {
    "hidden": true
   },
   "outputs": [
    {
     "data": {
      "text/plain": [
       "257"
      ]
     },
     "execution_count": 26,
     "metadata": {},
     "output_type": "execute_result"
    }
   ],
   "source": [
    "parkCount = int(arcpy.management.GetCount('parks').getOutput(0))"
   ]
  },
  {
   "cell_type": "code",
   "execution_count": 27,
   "metadata": {
    "hidden": true
   },
   "outputs": [],
   "source": [
    "def exportAttributeJoin(inputFc, idFieldInputFc, inputTable, idFieldTable, workspace):\n",
    "    try:\n",
    "        ## updates the workspace to the workspace given by the user\n",
    "        arcpy.env.workspace = workspace\n",
    "\n",
    "        ##sets the output table name.\n",
    "        outName = inputFc + \"_\" + inputTable + \"_JoinOn_\" + idFieldInputFc\n",
    "    \n",
    "        ##creates a table with the join\n",
    "        joined = arcpy.AddJoin_management(inputFc, idFieldInputFc, inputTable, idFieldTable, 'KEEP_COMMON')\n",
    "\n",
    "\n",
    "        ##copiews the newly joined table into the workspace.\n",
    "        arcpy.CopyFeatures_management(joined, outName)\n",
    "        \n",
    "        ## Get Row Counts\n",
    "        joinedCount = int(arcpy.management.GetCount('joined').getOutput(0))\n",
    "        unJoinedCount = int(arcpy.management.GetCount('inputFc').getOutput(0)) - joinedCount\n",
    "\n",
    "        ##prints the number of records successfully joined into the \n",
    "        ##table as well as the number of rows in the original tables.\n",
    "        print(\"Rows Matched: \" + joinedCount)\n",
    "        print(\"Rows Unmatched: \" + unJoinedCount)\n",
    "       \n",
    "    # Return geoprocessing specific errors\n",
    "    except arcpy.ExecuteError:\n",
    "        arcpy.AddError(arcpy.GetMessages(2))\n",
    "\n",
    "    # Return any other type of error\n",
    "    except:\n",
    "        # By default any other errors will be caught here\n",
    "        e = sys.exc_info()[1]\n",
    "    print(e.args[0])"
   ]
  },
  {
   "cell_type": "markdown",
   "metadata": {},
   "source": [
    "## Lecture Materials"
   ]
  },
  {
   "cell_type": "code",
   "execution_count": null,
   "metadata": {},
   "outputs": [],
   "source": []
  },
  {
   "cell_type": "code",
   "execution_count": null,
   "metadata": {},
   "outputs": [],
   "source": [
    "#\n",
    "#\n",
    "#\n",
    "#\n",
    "#\n",
    "#\n",
    "#\n",
    "#\n",
    "#\n",
    "#\n",
    "#\n",
    "#\n",
    "#\n",
    "#\n",
    "#\n",
    "#\n",
    "#\n",
    "#\n",
    "#\n",
    "#\n",
    "#\n",
    "#\n",
    "#\n",
    "#\n",
    "#\n"
   ]
  }
 ],
 "metadata": {
  "kernelspec": {
   "display_name": "ArcGISPro",
   "language": "Python",
   "name": "python3"
  },
  "language_info": {
   "file_extension": ".py",
   "name": "python",
   "version": "3"
  }
 },
 "nbformat": 4,
 "nbformat_minor": 2
}

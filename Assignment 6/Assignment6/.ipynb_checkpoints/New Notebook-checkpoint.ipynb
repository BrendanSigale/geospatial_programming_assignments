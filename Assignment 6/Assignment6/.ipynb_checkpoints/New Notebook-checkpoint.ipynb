{
 "cells": [
  {
   "cell_type": "code",
   "execution_count": null,
   "metadata": {},
   "outputs": [],
   "source": [
    "import arcpy\n"
   ]
  },
  {
   "cell_type": "code",
   "execution_count": null,
   "metadata": {},
   "outputs": [],
   "source": [
    "###################################################################### \n",
    "# Problem 1: 20 Points\n",
    "#\n",
    "# Given a csv file import it into the database passed as in the second parameter\n",
    "# Each parameter is described below:\n",
    "\n",
    "# csvFile: The absolute path of the file should be included (e.g., C:/users/ckoylu/test.csv)\n",
    "# geodatabase: The workspace geodatabase\n",
    "###################################################################### \n",
    "def importCSVIntoGeodatabase(csvFile, geodatabase):\n",
    "    pass"
   ]
  },
  {
   "cell_type": "code",
   "execution_count": null,
   "metadata": {},
   "outputs": [],
   "source": [
    "##################################################################################################### \n",
    "# Problem 2: 80 Points Total\n",
    "#\n",
    "# Given a csv table with point coordinates, this function should create an interpolated\n",
    "# raster surface, clip it by a polygon shapefile boundary, and generate an isarithmic map\n",
    "\n",
    "# You can organize your code using multiple functions. For example,\n",
    "# you can first do the interpolation, then clip then equal interval classification\n",
    "# to generate an isarithmic map\n",
    "\n",
    "# Each parameter is described below:\n",
    "\n",
    "# inTable: The name of the table that contain point observations for interpolation       \n",
    "# valueField: The name of the field to be used in interpolation\n",
    "# xField: The field that contains the longitude values\n",
    "# yField: The field that contains the latitude values\n",
    "# inClipFc: The input feature class for clipping the interpolated raster\n",
    "# workspace: The geodatabase workspace\n",
    "\n",
    "# Below are suggested steps for your program. More code may be needed for exception handling\n",
    "#    and checking the accuracy of the input values.\n",
    "\n",
    "# 1- Do not hardcode any parameters or filenames in your code.\n",
    "#    Name your parameters and output files based on inputs. For example,\n",
    "#    interpolated raster can be named after the field value field name \n",
    "# 2- You can assume the input table should have the coordinates in latitude and longitude (WGS84)\n",
    "# 3- Generate an input feature later using inTable\n",
    "# 4- Convert the projection of the input feature layer\n",
    "#    to match the coordinate system of the clip feature class. Do not clip the features yet.\n",
    "# 5- Check and enable the spatial analyst extension for kriging\n",
    "# 6- Use KrigingModelOrdinary function and interpolate the projected feature class\n",
    "#    that was created from the point feature layer.\n",
    "# 7- Clip the interpolated kriging raster, and delete the original kriging result\n",
    "#    after successful clipping. \n",
    "#################################################################################################################### \n",
    "def krigingFromPointCSV(inTable, valueField, xField, yField, inClipFc, workspace = \"assignment3.gdb\"):\n",
    "    pass"
   ]
  },
  {
   "cell_type": "code",
   "execution_count": 1,
   "metadata": {},
   "outputs": [],
   "source": [
    "#\n",
    "#\n",
    "#\n",
    "#\n",
    "#\n",
    "#\n",
    "#\n",
    "#\n",
    "#\n",
    "#\n",
    "#\n",
    "#\n",
    "#\n",
    "#\n",
    "#\n",
    "#\n",
    "#\n",
    "#\n",
    "#\n",
    "#\n",
    "#\n",
    "#\n",
    "#\n",
    "#\n",
    "#\n",
    "#\n",
    "#\n",
    "#\n",
    "#\n",
    "#\n",
    "#\n",
    "#\n"
   ]
  }
 ],
 "metadata": {
  "kernelspec": {
   "display_name": "ArcGISPro",
   "language": "Python",
   "name": "python3"
  },
  "language_info": {
   "file_extension": ".py",
   "name": "python",
   "version": "3"
  }
 },
 "nbformat": 4,
 "nbformat_minor": 2
}

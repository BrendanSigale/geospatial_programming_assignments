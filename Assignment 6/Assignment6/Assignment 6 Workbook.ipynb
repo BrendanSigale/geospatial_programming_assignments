{
 "cells": [
  {
   "cell_type": "code",
   "execution_count": 1,
   "metadata": {},
   "outputs": [],
   "source": [
    "import arcpy\n",
    "folder = r'D:\\Documents\\GitHub Repos\\geospatial_programming_assignments\\Assignment 6\\Assignment6'\n",
    "arcpy.env.workspace = folder\n",
    "arcpy.arcpy.env.overwriteOutput = True"
   ]
  },
  {
   "cell_type": "code",
   "execution_count": 37,
   "metadata": {},
   "outputs": [],
   "source": [
    "###################################################################### \n",
    "# Problem 1: 20 Points\n",
    "#\n",
    "# Given a csv file import it into the database passed as in the second parameter\n",
    "# Each parameter is described below:\n",
    "\n",
    "# csvFile: The absolute path of the file should be included (e.g., C:/users/ckoylu/test.csv)\n",
    "# geodatabase: The workspace geodatabase\n",
    "###################################################################### \n",
    "def importCSVIntoGeodatabase(csvFile, geodatabase):\n",
    "    outTable = 'csvImport'\n",
    "    try:\n",
    "        arcpy.env.workspace = geodatabase\n",
    "        arcpy.TableToTable_conversion(csvFile, arcpy.env.workspace, outTable)\n",
    "    except:\n",
    "        # By default any other errors will be caught here\n",
    "        e = sys.exc_info()[1]\n",
    "        print(e.args[0])"
   ]
  },
  {
   "cell_type": "code",
   "execution_count": 3,
   "metadata": {},
   "outputs": [],
   "source": [
    "outTable = 'csvImport'\n",
    "csvFile = r'D:\\Documents\\GitHub Repos\\geospatial_programming_assignments\\Assignment 6\\Assignment6/yearly.csv'\n",
    "geodatabase = 'Assignment6.gdb'"
   ]
  },
  {
   "cell_type": "code",
   "execution_count": 4,
   "metadata": {},
   "outputs": [
    {
     "data": {
      "text/plain": [
       "'Assignment6.gdb'"
      ]
     },
     "execution_count": 4,
     "metadata": {},
     "output_type": "execute_result"
    }
   ],
   "source": [
    "arcpy.env.workspace = geodatabase\n",
    "arcpy.env.workspace"
   ]
  },
  {
   "cell_type": "code",
   "execution_count": 29,
   "metadata": {},
   "outputs": [
    {
     "data": {
      "text/html": [
       "<h2>Output</h2>Assignment6.gdb\\csvImport<h2>Messages</h2>Start Time: Friday, April 16, 2021 10:36:17 AM<br/>Succeeded at Friday, April 16, 2021 10:36:19 AM (Elapsed Time: 1.59 seconds)<br/><style>.rendered_html td, .rendered_html th {text-align: left;}.rendered_html tbody {border: 1px solid black;}</style>"
      ],
      "text/plain": [
       "<Result 'Assignment6.gdb\\\\csvImport'>"
      ]
     },
     "execution_count": 29,
     "metadata": {},
     "output_type": "execute_result"
    }
   ],
   "source": [
    "arcpy.TableToTable_conversion(csvFile, arcpy.env.workspace, outTable)"
   ]
  },
  {
   "cell_type": "code",
   "execution_count": 30,
   "metadata": {},
   "outputs": [],
   "source": [
    "importCSVIntoGeodatabase(csvFile, geodatabase)"
   ]
  },
  {
   "cell_type": "code",
   "execution_count": 19,
   "metadata": {},
   "outputs": [],
   "source": [
    "from arcpy.sa import *"
   ]
  },
  {
   "cell_type": "code",
   "execution_count": 43,
   "metadata": {},
   "outputs": [],
   "source": [
    "##################################################################################################### \n",
    "# Problem 2: 80 Points Total\n",
    "#\n",
    "# Given a csv table with point coordinates, this function should create an interpolated\n",
    "# raster surface, clip it by a polygon shapefile boundary, and generate an isarithmic map\n",
    "\n",
    "# You can organize your code using multiple functions. For example,\n",
    "# you can first do the interpolation, then clip then equal interval classification\n",
    "# to generate an isarithmic map\n",
    "\n",
    "# Each parameter is described below:\n",
    "\n",
    "# inTable: The name of the table that contain point observations for interpolation       \n",
    "# valueField: The name of the field to be used in interpolation\n",
    "# xField: The field that contains the longitude values\n",
    "# yField: The field that contains the latitude values\n",
    "# inClipFc: The input feature class for clipping the interpolated raster\n",
    "# workspace: The geodatabase workspace\n",
    "\n",
    "# Below are suggested steps for your program. More code may be needed for exception handling\n",
    "#    and checking the accuracy of the input values.\n",
    "\n",
    "# 1- Do not hardcode any parameters or filenames in your code.\n",
    "#    Name your parameters and output files based on inputs. For example,\n",
    "#    interpolated raster can be named after the field value field name \n",
    "# 2- You can assume the input table should have the coordinates in latitude and longitude (WGS84)\n",
    "# 3- Generate an input feature later using inTable\n",
    "# 4- Convert the projection of the input feature layer\n",
    "#    to match the coordinate system of the clip feature class. Do not clip the features yet.\n",
    "# 5- Check and enable the spatial analyst extension for kriging\n",
    "# 6- Use KrigingModelOrdinary function and interpolate the projected feature class\n",
    "#    that was created from the point feature layer.\n",
    "# 7- Clip the interpolated kriging raster, and delete the original kriging result\n",
    "#    after successful clipping. \n",
    "#################################################################################################################### \n",
    "def krigingFromPointCSV(inTable, valueField, xField, yField, inClipFc, workspace = \"assignment3.gdb\"):\n",
    "    ##update GDB and enable overwrite\n",
    "    arcpy.env.workspace = workspace\n",
    "    arcpy.arcpy.env.overwriteOutput = True\n",
    "    \n",
    "    ## Create variables used throughout the function\n",
    "    outTable = 'csvImport'\n",
    "    outFc = 'tableAsFc' ## Points as feature class layer name\n",
    "    outProject = 'pointsToClipConversion' ## Reprojected points if necessary\n",
    "    krigName = 'kriging_based_on_' + valueField ## Kriging name\n",
    "    clipFc = 'imported_clipping_fc' ## Clipping feature class imported to the gdb\n",
    "    inputFcClip = 'input_fc_clipped' ## Clipped kriging map\n",
    "    inputFcClipInt = inputFcClip + '_int' ## Integer clipping kriging map\n",
    "    outKiriging = 'kriging_classified' \n",
    "    finalOutput = 'rasterized_kriging_based_on_' + valueField + \"_and_\" + inClipFc ## Final output layer\n",
    "    \n",
    "    ## Input the inTable\n",
    "    importCSVIntoGeodatabase(inTable, workspace)\n",
    "    \n",
    "    ## Generate table point feature class from xField and yField\n",
    "    arcpy.management.XYTableToPoint(outTable, outFc, xField, yField)\n",
    "    \n",
    "    ## Imported feature class to gdb\n",
    "    arcpy.FeatureClassToFeatureClass_conversion(inClipFc, arcpy.env.workspace, clipFc)\n",
    "    \n",
    "    \n",
    "    ## Spatial References\n",
    "    spatialRefTable = arcpy.Describe(outFc).spatialReference.factoryCode\n",
    "    spatialRefClip = arcpy.Describe(inClipFc).spatialReference.factoryCode\n",
    "    spatialRefClip_object = arcpy.Describe(inClipFc).spatialReference\n",
    "    \n",
    "    ##check if srids match, if not update clip table points to match clipping feature class\n",
    "    if spatialRefClip != spatialRefTable:\n",
    "        arcpy.management.Project(outFc, outProject, spatialRefClip_object)\n",
    "        \n",
    "    ## Check to make sure Spatial Analyst license is available, raise error if not\n",
    "    try:\n",
    "        if arcpy.CheckExtension(\"Spatial\") == 'Available':\n",
    "            arcpy.CheckOutExtension(\"Spatial\")\n",
    "        else:\n",
    "            raise LicenseError\n",
    "    except LicenseError:\n",
    "        print(\"Spatial Analyst License is not available\")\n",
    "    \n",
    "    try:\n",
    "        ## Calculate cell size for Kriging\n",
    "        descTable = arcpy.Describe(outFc)\n",
    "        width = descTable.extent.width\n",
    "        height = descTable.extent.height\n",
    "        cellSize = min(width, height) / 1000\n",
    "\n",
    "        ## Generate kriging layer\n",
    "        outKriging = Kriging(outFc, valueField, '#', cellSize)\n",
    "        outKriging.save(krigName)\n",
    "\n",
    "        ## Generate clipping extent\n",
    "        descClip = arcpy.Describe(clipFc)\n",
    "        rectangle = str(descClip.extent.XMin) + \" \" + str(descClip.extent.YMin) + \" \" + str(descClip.extent.XMax) + \" \" + str(descClip.extent.YMax)\n",
    "\n",
    "        ## Create clipped kriging map\n",
    "        arcpy.Clip_management(krigName, rectangle, inputFcClip, clipFc, '#', 'ClippingGeometry', 'MAINTAIN_EXTENT')\n",
    "\n",
    "        ## Convert clipping kriging map to integer values for classification\n",
    "        outInt = Int(inputFcClip)\n",
    "        outInt.save(inputFcClipInt)\n",
    "\n",
    "        ## Variables for establishing equal interval values (assumes 5 classes, can be changed using numofClasses variable)\n",
    "        min_int = int(arcpy.management.GetRasterProperties(outInt, \"MINIMUM\").getOutput(0))\n",
    "        max_int = int(arcpy.management.GetRasterProperties(outInt, \"MAXIMUM\").getOutput(0))\n",
    "        numofClasses = 5\n",
    "        eqInterval = (max_int - min_int) / numofClasses\n",
    "        myremapRange = []\n",
    "        myBreak = min_int\n",
    "\n",
    "        ## Generate equal interval ranges\n",
    "        for i in range(0, numofClasses):\n",
    "            classCode = i + 1\n",
    "            lowerBound = myBreak\n",
    "            upperBound = myBreak + eqInterval\n",
    "            remap = [lowerBound, upperBound, classCode]\n",
    "            myremapRange.append(remap)\n",
    "            myBreak += eqInterval\n",
    "\n",
    "        ## Classified based on Integer kriging values\n",
    "        outReclassRR = Reclassify(inputFcClipInt, \"Value\", RemapRange(myremapRange), \"NODATA\")\n",
    "        outReclassRR.save(\"kriging_classified_output\")\n",
    "\n",
    "        ## Save classified raster as polygon for final output\n",
    "        arcpy.RasterToPolygon_conversion(outReclassRR, finalOutput, \"NO_SIMPLIFY\", \"Value\")\n",
    "\n",
    "        ## Delete extra feature classes and layers which were generated\n",
    "        arcpy.management.Delete(outFc)\n",
    "        arcpy.management.Delete(clipFc)\n",
    "        arcpy.management.Delete(outKriging)\n",
    "        arcpy.management.Delete(outInt)\n",
    "        arcpy.management.Delete(inputFcClip)\n",
    "        arcpy.management.Delete(outReclassRR)\n",
    "    #     arcpy.management.Delete()\n",
    "    #     arcpy.management.Delete()\n",
    "    except:\n",
    "        # By default any other errors will be caught here\n",
    "        e = sys.exc_info()[1]\n",
    "        print(e.args[0])"
   ]
  },
  {
   "cell_type": "code",
   "execution_count": 40,
   "metadata": {},
   "outputs": [
    {
     "name": "stdout",
     "output_type": "stream",
     "text": [
      "D:\\Documents\\GitHub Repos\\geospatial_programming_assignments\\Assignment 6\\Assignment6/yearly.csv, F2018_PREC, Longitude, Latitude, iowa_counties, Assignment6.gdb\n"
     ]
    }
   ],
   "source": [
    "inTable = r'D:\\Documents\\GitHub Repos\\geospatial_programming_assignments\\Assignment 6\\Assignment6/yearly.csv'\n",
    "valueField = 'F2018_PREC'\n",
    "xField = 'Longitude'\n",
    "yField = 'Latitude'\n",
    "inClipFc = 'iowa_counties'\n",
    "workspace = 'Assignment6.gdb'\n",
    "\n",
    "print(inTable, valueField, xField, yField, inClipFc, workspace, sep=', ')"
   ]
  },
  {
   "cell_type": "code",
   "execution_count": 44,
   "metadata": {
    "scrolled": true
   },
   "outputs": [],
   "source": [
    "krigingFromPointCSV(inTable, valueField, xField, yField, inClipFc, workspace)"
   ]
  },
  {
   "cell_type": "markdown",
   "metadata": {
    "heading_collapsed": true
   },
   "source": [
    "### Testing "
   ]
  },
  {
   "cell_type": "code",
   "execution_count": 10,
   "metadata": {
    "hidden": true
   },
   "outputs": [],
   "source": [
    "outFc = 'tableAsFc'\n",
    "outProject = 'pointsToClipConversion'"
   ]
  },
  {
   "cell_type": "code",
   "execution_count": 11,
   "metadata": {
    "hidden": true
   },
   "outputs": [
    {
     "data": {
      "text/html": [
       "<h2>Output</h2>Assignment6.gdb\\tableAsFc<h2>Messages</h2>Start Time: Friday, April 16, 2021 10:00:38 AM<br/>Succeeded at Friday, April 16, 2021 10:00:40 AM (Elapsed Time: 2.21 seconds)<br/><style>.rendered_html td, .rendered_html th {text-align: left;}.rendered_html tbody {border: 1px solid black;}</style>"
      ],
      "text/plain": [
       "<Result 'Assignment6.gdb\\\\tableAsFc'>"
      ]
     },
     "execution_count": 11,
     "metadata": {},
     "output_type": "execute_result"
    }
   ],
   "source": [
    "arcpy.management.XYTableToPoint(inTable, outFc, xField, yField)"
   ]
  },
  {
   "cell_type": "code",
   "execution_count": 12,
   "metadata": {
    "hidden": true
   },
   "outputs": [],
   "source": [
    "spatialRefTable = arcpy.Describe(outFc).spatialReference.factoryCode\n",
    "spatialRefClip = arcpy.Describe(inClipFc).spatialReference.factoryCode\n",
    "spatialRefClip_object = arcpy.Describe(inClipFc).spatialReference\n",
    "\n",
    "if spatialRefClip != spatialRefTable:\n",
    "        arcpy.management.Project(outFc, outProject, spatialRefClip_object)"
   ]
  },
  {
   "cell_type": "code",
   "execution_count": 13,
   "metadata": {
    "hidden": true
   },
   "outputs": [],
   "source": [
    "## check is spatial analyst extension is available and then import it\n",
    "try:\n",
    "    if arcpy.CheckExtension(\"Spatial\") == 'Available':\n",
    "        arcpy.CheckOutExtension(\"Spatial\")\n",
    "    else:\n",
    "        raise LicenseError\n",
    "except LicenseError:\n",
    "    print(\"Spatial Analyst License is not available\")\n",
    "\n",
    "from arcpy.sa import *"
   ]
  },
  {
   "cell_type": "code",
   "execution_count": 14,
   "metadata": {
    "hidden": true
   },
   "outputs": [
    {
     "name": "stdout",
     "output_type": "stream",
     "text": [
      "23.383333332999996 12.866666666000015\n",
      "0.012866666666000014\n"
     ]
    }
   ],
   "source": [
    "descTable = arcpy.Describe(outFc)\n",
    "print(descTable.extent.width, descTable.extent.height)\n",
    "width = descTable.extent.width\n",
    "height = descTable.extent.height\n",
    "\n",
    "cellSize = min(width, height) / 1000\n",
    "print(cellSize)"
   ]
  },
  {
   "cell_type": "code",
   "execution_count": 15,
   "metadata": {
    "hidden": true
   },
   "outputs": [],
   "source": [
    "krigName = 'kriging_based_on_' + valueField\n",
    "outKriging = Kriging(outFc, valueField, '#', cellSize)\n",
    "outKriging.save(krigName)"
   ]
  },
  {
   "cell_type": "code",
   "execution_count": 16,
   "metadata": {
    "hidden": true
   },
   "outputs": [
    {
     "data": {
      "text/html": [
       "<h2>Output</h2>Assignment6.gdb\\imported_clipping_fc<h2>Messages</h2>Start Time: Friday, April 16, 2021 10:01:14 AM<br/>Succeeded at Friday, April 16, 2021 10:01:14 AM (Elapsed Time: 0.49 seconds)<br/><style>.rendered_html td, .rendered_html th {text-align: left;}.rendered_html tbody {border: 1px solid black;}</style>"
      ],
      "text/plain": [
       "<Result 'Assignment6.gdb\\\\imported_clipping_fc'>"
      ]
     },
     "execution_count": 16,
     "metadata": {},
     "output_type": "execute_result"
    }
   ],
   "source": [
    "clipFc = 'imported_clipping_fc'\n",
    "arcpy.FeatureClassToFeatureClass_conversion(inClipFc, arcpy.env.workspace, clipFc)"
   ]
  },
  {
   "cell_type": "code",
   "execution_count": 17,
   "metadata": {
    "hidden": true
   },
   "outputs": [
    {
     "data": {
      "text/plain": [
       "'-96.64070921375918 40.37194662123966 -90.14279675826373 43.501457447103576'"
      ]
     },
     "execution_count": 17,
     "metadata": {},
     "output_type": "execute_result"
    }
   ],
   "source": [
    "descClip = arcpy.Describe(clipFc)\n",
    "rectangle = str(descClip.extent.XMin) + \" \" + str(descClip.extent.YMin) + \" \" + str(descClip.extent.XMax) + \" \" + str(descClip.extent.YMax)\n",
    "rectangle"
   ]
  },
  {
   "cell_type": "code",
   "execution_count": 18,
   "metadata": {
    "hidden": true
   },
   "outputs": [
    {
     "data": {
      "text/html": [
       "<h2>Output</h2>Assignment6.gdb\\input_fc_clipped<h2>Messages</h2>Start Time: Friday, April 16, 2021 10:01:22 AM<br/>Building Pyramids...<br/>Succeeded at Friday, April 16, 2021 10:01:23 AM (Elapsed Time: 0.70 seconds)<br/><style>.rendered_html td, .rendered_html th {text-align: left;}.rendered_html tbody {border: 1px solid black;}</style>"
      ],
      "text/plain": [
       "<Result 'Assignment6.gdb\\\\input_fc_clipped'>"
      ]
     },
     "execution_count": 18,
     "metadata": {},
     "output_type": "execute_result"
    }
   ],
   "source": [
    "inputFcClip = 'input_fc_clipped'\n",
    "\n",
    "arcpy.Clip_management(krigName, rectangle, inputFcClip, clipFc, '#', \n",
    "                      'ClippingGeometry', 'MAINTAIN_EXTENT')"
   ]
  },
  {
   "cell_type": "code",
   "execution_count": 19,
   "metadata": {
    "hidden": true
   },
   "outputs": [],
   "source": [
    "inputFcClipInt = inputFcClip + '_int'\n",
    "outInt = Int(inputFcClip)\n",
    "outInt.save(inputFcClipInt)"
   ]
  },
  {
   "cell_type": "code",
   "execution_count": 20,
   "metadata": {
    "hidden": true
   },
   "outputs": [
    {
     "name": "stdout",
     "output_type": "stream",
     "text": [
      "30\n",
      "67\n"
     ]
    }
   ],
   "source": [
    "min_int = int(arcpy.management.GetRasterProperties(outInt, \"MINIMUM\").getOutput(0))\n",
    "max_int = int(arcpy.management.GetRasterProperties(outInt, \"MAXIMUM\").getOutput(0))\n",
    "\n",
    "print(min_int)\n",
    "print(max_int)"
   ]
  },
  {
   "cell_type": "code",
   "execution_count": 21,
   "metadata": {
    "hidden": true
   },
   "outputs": [
    {
     "data": {
      "text/plain": [
       "7.4"
      ]
     },
     "execution_count": 21,
     "metadata": {},
     "output_type": "execute_result"
    }
   ],
   "source": [
    "numofClasses = 5\n",
    "eqInterval = (max_int - min_int) / numofClasses\n",
    "eqInterval"
   ]
  },
  {
   "cell_type": "code",
   "execution_count": 22,
   "metadata": {
    "hidden": true
   },
   "outputs": [
    {
     "data": {
      "text/plain": [
       "[[30, 37.4, 1], [37.4, 44.8, 2], [44.8, 52.199999999999996, 3], [52.199999999999996, 59.599999999999994, 4], [59.599999999999994, 67.0, 5]]"
      ]
     },
     "execution_count": 22,
     "metadata": {},
     "output_type": "execute_result"
    }
   ],
   "source": [
    "myremapRange = []\n",
    "myBreak = min_int\n",
    "\n",
    "for i in range(0, numofClasses):\n",
    "    classCode = i + 1\n",
    "    lowerBound = myBreak\n",
    "    upperBound = myBreak + eqInterval\n",
    "    remap = [lowerBound, upperBound, classCode]\n",
    "    myremapRange.append(remap)\n",
    "    myBreak += eqInterval\n",
    "\n",
    "myremapRange"
   ]
  },
  {
   "cell_type": "code",
   "execution_count": 23,
   "metadata": {
    "hidden": true
   },
   "outputs": [
    {
     "ename": "TypeError",
     "evalue": "type <Raster> is not supported",
     "output_type": "error",
     "traceback": [
      "\u001b[0;31m---------------------------------------------------------------------------\u001b[0m\n\u001b[0;31mTypeError\u001b[0m                                 Traceback (most recent call last)",
      "In  \u001b[0;34m[23]\u001b[0m:\nLine \u001b[0;34m4\u001b[0m:     outReclassRR.save(outKriging)\n",
      "\u001b[0;31mTypeError\u001b[0m: type <Raster> is not supported\n\u001b[0;31m---------------------------------------------------------------------------\u001b[0m"
     ]
    }
   ],
   "source": [
    "outKiriging = 'kriging_classified'\n",
    "\n",
    "outReclassRR = Reclassify(outInt, \"Value\", RemapRange(myremapRange), \"NODATA\")\n",
    "outReclassRR.save(outKriging)"
   ]
  },
  {
   "cell_type": "code",
   "execution_count": 26,
   "metadata": {
    "hidden": true
   },
   "outputs": [
    {
     "data": {
      "text/html": [
       "<h2>Output</h2>Assignment6.gdb\\rasterized_kriging_based_on_F2018_PREC_and_iowa_counties<h2>Messages</h2>Start Time: Friday, April 16, 2021 10:03:13 AM<br/>Succeeded at Friday, April 16, 2021 10:03:13 AM (Elapsed Time: 0.42 seconds)<br/><style>.rendered_html td, .rendered_html th {text-align: left;}.rendered_html tbody {border: 1px solid black;}</style>"
      ],
      "text/plain": [
       "<Result 'Assignment6.gdb\\\\rasterized_kriging_based_on_F2018_PREC_and_iowa_counties'>"
      ]
     },
     "execution_count": 26,
     "metadata": {},
     "output_type": "execute_result"
    }
   ],
   "source": [
    "finalOutput = 'rasterized_kriging_based_on_' + valueField + \"_and_\" + inClipFc\n",
    "arcpy.RasterToPolygon_conversion(outReclassRR, finalOutput, \"NO_SIMPLIFY\", \"Value\")"
   ]
  },
  {
   "cell_type": "markdown",
   "metadata": {},
   "source": [
    "### Barrier\n"
   ]
  },
  {
   "cell_type": "code",
   "execution_count": 1,
   "metadata": {},
   "outputs": [],
   "source": [
    "#\n",
    "#\n",
    "#\n",
    "#\n",
    "#\n",
    "#\n",
    "#\n",
    "#\n",
    "#\n",
    "#\n",
    "#\n",
    "#\n",
    "#\n",
    "#\n",
    "#\n",
    "#\n",
    "#\n",
    "#\n",
    "#\n",
    "#\n",
    "#\n",
    "#\n",
    "#\n",
    "#\n",
    "#\n",
    "#\n",
    "#\n",
    "#\n",
    "#\n",
    "#\n",
    "#\n",
    "#\n"
   ]
  }
 ],
 "metadata": {
  "kernelspec": {
   "display_name": "ArcGISPro",
   "language": "Python",
   "name": "python3"
  },
  "language_info": {
   "file_extension": ".py",
   "name": "python",
   "version": "3"
  }
 },
 "nbformat": 4,
 "nbformat_minor": 2
}

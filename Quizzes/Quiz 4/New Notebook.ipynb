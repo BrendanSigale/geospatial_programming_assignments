{
 "cells": [
  {
   "cell_type": "code",
   "execution_count": 43,
   "metadata": {},
   "outputs": [],
   "source": [
    "import arcpy\n",
    "from arcpy import env\n",
    "arcpy.env.workspace = r\"E:\\My Drive\\School\\College\\06 Grad Full\\Semester 2\\Geospatial Programming\\Quizzes\\Quiz 4\\airports_quiz4_2\"\n",
    "arcpy.env.overwriteOutput = True\n"
   ]
  },
  {
   "cell_type": "code",
   "execution_count": 51,
   "metadata": {},
   "outputs": [],
   "source": [
    "fc = 'airports'\n",
    "delimitedField = arcpy.AddFieldDelimiters(fc, \"FEATURE\")"
   ]
  },
  {
   "cell_type": "code",
   "execution_count": 52,
   "metadata": {
    "scrolled": true
   },
   "outputs": [
    {
     "data": {
      "text/html": [
       "<h2>Output</h2>a Layer object<h2>Messages</h2>Start Time: Sunday, March 14, 2021 1:49:42 PM<br/>WARNING 000012: buffer already exists<br/>Succeeded at Sunday, March 14, 2021 1:49:42 PM (Elapsed Time: 0.13 seconds)<br/><style>.rendered_html td, .rendered_html th {text-align: left;}.rendered_html tbody {border: 1px solid black;}</style>"
      ],
      "text/plain": [
       "<Result 'airports'>"
      ]
     },
     "execution_count": 52,
     "metadata": {},
     "output_type": "execute_result"
    }
   ],
   "source": [
    "arcpy.AddField_management(fc, \"buffer\", \"STRING\")"
   ]
  },
  {
   "cell_type": "code",
   "execution_count": 53,
   "metadata": {},
   "outputs": [],
   "source": [
    "with arcpy.da.UpdateCursor(fc, ['FEATURE', 'buffer']) as cursor:\n",
    "    for row in cursor:\n",
    "        if row[0] == 'Seaplane Base':\n",
    "            row[1] = \"7500 METERS\"\n",
    "        elif row[0] == 'Airport':\n",
    "            row[1] = \"1500 METERS\"\n",
    "        else:\n",
    "            print(\"Error: Feature Type Not Supported\")\n",
    "        cursor.updateRow(row)"
   ]
  },
  {
   "cell_type": "code",
   "execution_count": 55,
   "metadata": {},
   "outputs": [
    {
     "data": {
      "text/html": [
       "<h2>Output</h2>E:\\My Drive\\School\\College\\06 Grad Full\\Semester 2\\Geospatial Programming\\Quizzes\\Quiz 4\\airports_quiz4_2\\buffer_airports.shp<h2>Messages</h2>Start Time: Sunday, March 14, 2021 1:50:41 PM<br/>Succeeded at Sunday, March 14, 2021 1:50:41 PM (Elapsed Time: 0.90 seconds)<br/><style>.rendered_html td, .rendered_html th {text-align: left;}.rendered_html tbody {border: 1px solid black;}</style>"
      ],
      "text/plain": [
       "<Result 'E:\\\\My Drive\\\\School\\\\College\\\\06 Grad Full\\\\Semester 2\\\\Geospatial Programming\\\\Quizzes\\\\Quiz 4\\\\airports_quiz4_2\\\\buffer_airports.shp'>"
      ]
     },
     "execution_count": 55,
     "metadata": {},
     "output_type": "execute_result"
    }
   ],
   "source": [
    "bufferFcName = \"buffer_\" + fc + \".shp\"\n",
    "\n",
    "arcpy.Buffer_analysis(fc, bufferFcName, \"buffer\")"
   ]
  }
 ],
 "metadata": {
  "kernelspec": {
   "display_name": "ArcGISPro",
   "language": "Python",
   "name": "python3"
  },
  "language_info": {
   "file_extension": ".py",
   "name": "python",
   "version": "3"
  }
 },
 "nbformat": 4,
 "nbformat_minor": 2
}

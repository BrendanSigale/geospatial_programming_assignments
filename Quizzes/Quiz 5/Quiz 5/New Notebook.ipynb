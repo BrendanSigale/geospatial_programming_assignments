{
 "cells": [
  {
   "cell_type": "code",
   "execution_count": 2,
   "metadata": {},
   "outputs": [],
   "source": [
    "# Please write a python function that takes three inputs as and achieves the task defined below:\n",
    "\n",
    "# calculatePercentAreaOfPolygonAInPolygonB(input_geodatabase, fcPolygon1, fcPolygon2):\n",
    "\n",
    "# Given an input polygon feature class, fcPolygonA (e.g., parks), and a second feature class, fcPolygonB (e.g., block_groups) :\n",
    "\n",
    "# Calculate the percentage of the area of the first polygon features (fcPolygonA ) in the second polygon features (fcPolygonB),\n",
    "# and append the percentage of park area into a new field in the block groups feature class\n",
    "# Make sure that your area calculations are as accurate as possible. "
   ]
  },
  {
   "cell_type": "code",
   "execution_count": 9,
   "metadata": {},
   "outputs": [],
   "source": [
    "import arcpy\n",
    "arcpy.env.overwriteOutput = True"
   ]
  },
  {
   "cell_type": "code",
   "execution_count": 23,
   "metadata": {},
   "outputs": [],
   "source": [
    "def calculatePercentAreaOfPolygonAInPolygonB(input_geodatabase, fcPolygon1, fcPolygon2):\n",
    "    try:\n",
    "        ## Update workspace\n",
    "        arcpy.env.workspace = input_geodatabase\n",
    "        \n",
    "        ## Create field name objects\n",
    "        cbg_area_field = 'cbg_area'\n",
    "        park_area_field = 'park_area'\n",
    "        park_pct_field = 'park_pct'\n",
    "        fcOverlap = 'park_overlap'\n",
    "        \n",
    "        ## Add new fields used in calculations to fcPolygon2\n",
    "        arcpy.AddField_management(fcPolygon2, cbg_area_field, \"DOUBLE\")\n",
    "        arcpy.AddField_management(fcPolygon2, park_area_field, \"DOUBLE\")\n",
    "        arcpy.AddField_management(fcPolygon2, park_pct_field, 'DOUBLE')\n",
    "        \n",
    "        ## Calculate area of block groups, perform an intersect analysis, and then calculate area of intersect.\n",
    "        arcpy.CalculateGeometryAttributes_management(fcPolygon2, [[cbg_area_field, \"AREA_GEODESIC\"]], \"MILES_US\")\n",
    "        arcpy.Intersect_analysis([fcPolygon2, fcPolygon1], fcOverlap)\n",
    "        arcpy.CalculateGeometryAttributes_management(fcOverlap, [[park_area_field, \"AREA_GEODESIC\"]], \"MILES_US\")\n",
    "\n",
    "        ## Create dictionary of area of Polygon1 by FIPS code, used for combining with Polygon2\n",
    "        cbg_dict = {}\n",
    "        with arcpy.da.SearchCursor(fcParkOverlap, [\"FIPS\", park_area_field]) as cursor:\n",
    "            for row in cursor:\n",
    "                geoid = row[0]\n",
    "                if geoid in cbg_dict.keys():\n",
    "                    cbg_dict[geoid] += row[1]\n",
    "                else:\n",
    "                    cbg_dict[geoid] = row[1]\n",
    "        \n",
    "        ## Match park area from fcParkOverlap with FIPS in Polygon2\n",
    "        with arcpy.da.UpdateCursor(fcPolygon2, [\"FIPS\", park_area_field]) as cursor:\n",
    "            for row in cursor:\n",
    "                if row[0] in cbg_dict.keys():\n",
    "                    row[1] = cbg_dict[row[0]]\n",
    "                else:\n",
    "                    row[1] = 0\n",
    "                cursor.updateRow(row)\n",
    "        ## Calculate percent overlap and input into park_pct_field     \n",
    "        arcpy.CalculateField_management(fcPolygon2, park_pct_field, \"!park_area!/!cbg_area!\", \"PYTHON3\")\n",
    "        \n",
    "    except:\n",
    "        # By default any other errors will be caught here\n",
    "        e = sys.exc_info()[1]\n",
    "        print(e.args[0])"
   ]
  },
  {
   "cell_type": "code",
   "execution_count": 26,
   "metadata": {},
   "outputs": [],
   "source": [
    "workspace = r'E:\\My Drive\\School\\College\\06 Grad Full\\Semester 2\\Geospatial Programming\\Quizzes\\Quiz 5\\Quiz 5/quiz5.gdb'\n",
    "\n",
    "calculatePercentAreaOfPolygonAInPolygonB(workspace, 'parks_test1', 'block_groups_test1')"
   ]
  },
  {
   "cell_type": "code",
   "execution_count": 10,
   "metadata": {},
   "outputs": [
    {
     "data": {
      "text/html": [
       "<h2>Output</h2>a Layer object<h2>Messages</h2>Start Time: Wednesday, March 31, 2021 6:32:47 PM<br/>WARNING 000012: park_pct already exists<br/>Succeeded at Wednesday, March 31, 2021 6:32:51 PM (Elapsed Time: 4.30 seconds)<br/><style>.rendered_html td, .rendered_html th {text-align: left;}.rendered_html tbody {border: 1px solid black;}</style>"
      ],
      "text/plain": [
       "<Result 'block_groups'>"
      ]
     },
     "execution_count": 10,
     "metadata": {},
     "output_type": "execute_result"
    }
   ],
   "source": [
    "fcPolygon1 = 'parks'\n",
    "fcPolygon2 = 'block_groups'\n",
    "fcParkOverlap = 'park_overlap'\n",
    "\n",
    "arcpy.AddField_management(fcPolygon2, \"cbg_area\", \"DOUBLE\")\n",
    "arcpy.AddField_management(fcPolygon2, \"park_area\", \"DOUBLE\")\n",
    "arcpy.AddField_management(fcPolygon2, 'park_pct', 'DOUBLE')"
   ]
  },
  {
   "cell_type": "code",
   "execution_count": 11,
   "metadata": {},
   "outputs": [
    {
     "data": {
      "text/html": [
       "<h2>Output</h2>a Layer object<h2>Messages</h2>Start Time: Wednesday, March 31, 2021 6:34:25 PM<br/>Succeeded at Wednesday, March 31, 2021 6:34:49 PM (Elapsed Time: 23.97 seconds)<br/><style>.rendered_html td, .rendered_html th {text-align: left;}.rendered_html tbody {border: 1px solid black;}</style>"
      ],
      "text/plain": [
       "<Result 'park_overlap'>"
      ]
     },
     "execution_count": 11,
     "metadata": {},
     "output_type": "execute_result"
    }
   ],
   "source": [
    "arcpy.CalculateGeometryAttributes_management(fcPolygon2, [[\"cbg_area\", \"AREA_GEODESIC\"]], \"MILES_US\")\n",
    "arcpy.Intersect_analysis([fcPolygon2, fcPolygon1], \"park_overlap\")\n",
    "arcpy.CalculateGeometryAttributes_management('park_overlap', [[\"park_area\", \"AREA_GEODESIC\"]], \"MILES_US\")"
   ]
  },
  {
   "cell_type": "code",
   "execution_count": 14,
   "metadata": {},
   "outputs": [],
   "source": [
    "park_area_field = 'park_area'\n",
    "\n",
    "cbg_dict = {}\n",
    "with arcpy.da.SearchCursor(fcParkOverlap, [\"FIPS\", park_area_field]) as cursor:\n",
    "    for row in cursor:\n",
    "        geoid = row[0]\n",
    "        if geoid in cbg_dict.keys():\n",
    "            cbg_dict[geoid] += row[1]\n",
    "        else:\n",
    "            cbg_dict[geoid] = row[1]"
   ]
  },
  {
   "cell_type": "code",
   "execution_count": 16,
   "metadata": {},
   "outputs": [],
   "source": [
    "with arcpy.da.UpdateCursor(fcPolygon2, [\"FIPS\", park_area_field]) as cursor:\n",
    "    for row in cursor:\n",
    "        if row[0] in cbg_dict.keys():\n",
    "            row[1] = cbg_dict[row[0]]\n",
    "        else:\n",
    "            row[1] = 0\n",
    "        cursor.updateRow(row)"
   ]
  },
  {
   "cell_type": "code",
   "execution_count": 18,
   "metadata": {},
   "outputs": [
    {
     "data": {
      "text/html": [
       "<h2>Output</h2>a Layer object<h2>Messages</h2>Start Time: Wednesday, March 31, 2021 6:42:42 PM<br/>Succeeded at Wednesday, March 31, 2021 6:42:44 PM (Elapsed Time: 2.43 seconds)<br/><style>.rendered_html td, .rendered_html th {text-align: left;}.rendered_html tbody {border: 1px solid black;}</style>"
      ],
      "text/plain": [
       "<Result 'block_groups'>"
      ]
     },
     "execution_count": 18,
     "metadata": {},
     "output_type": "execute_result"
    }
   ],
   "source": [
    "park_pct_field = 'park_pct'\n",
    "arcpy.CalculateField_management(fcPolygon2, park_pct_field, \"!park_area!/!cbg_area!\", \"PYTHON3\")"
   ]
  }
 ],
 "metadata": {
  "kernelspec": {
   "display_name": "ArcGISPro",
   "language": "Python",
   "name": "python3"
  },
  "language_info": {
   "file_extension": ".py",
   "name": "python",
   "version": "3"
  }
 },
 "nbformat": 4,
 "nbformat_minor": 2
}

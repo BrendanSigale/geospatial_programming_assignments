{
 "cells": [
  {
   "cell_type": "code",
   "execution_count": 38,
   "metadata": {},
   "outputs": [],
   "source": [
    "import arcpy\n",
    "from arcpy import env\n",
    "import os\n",
    "arcpy.env.overwriteOutput = True"
   ]
  },
  {
   "cell_type": "code",
   "execution_count": 32,
   "metadata": {},
   "outputs": [
    {
     "name": "stdout",
     "output_type": "stream",
     "text": [
      "E:\\My Drive\\School\\College\\06 Grad Full\\Semester 2\\Geospatial Programming\\Project 2\n"
     ]
    }
   ],
   "source": [
    "arcpy.env.workspace = r\"E:\\My Drive\\School\\College\\06 Grad Full\\Semester 2\\Geospatial Programming\\Project 2\"\n",
    "print(arcpy.env.workspace)"
   ]
  },
  {
   "cell_type": "code",
   "execution_count": 36,
   "metadata": {},
   "outputs": [],
   "source": [
    "def printFeatureClassNames(workspace):\n",
    "    fcList = arcpy.ListFeatureClasses()\n",
    "    \n",
    "    for fc in fcList:\n",
    "        geom_type = arcpy.Describe(fc).shapeType\n",
    "        print(\"{0} is a {1} feature class\".format(fc, geom_type))"
   ]
  },
  {
   "cell_type": "code",
   "execution_count": 37,
   "metadata": {
    "scrolled": false
   },
   "outputs": [
    {
     "name": "stdout",
     "output_type": "stream",
     "text": [
      "missouri_highway.shp is a Polyline feature class\n",
      "FEMA_Floodplain.shp is a Polygon feature class\n",
      "cb_2018_29_bg_500k.shp is a Polygon feature class\n"
     ]
    }
   ],
   "source": [
    "printFeatureClassNames(arcpy.env.workspace)"
   ]
  },
  {
   "cell_type": "code",
   "execution_count": 61,
   "metadata": {},
   "outputs": [
    {
     "name": "stdout",
     "output_type": "stream",
     "text": [
      "ALAND Double\n",
      "AWATER Double\n"
     ]
    }
   ],
   "source": [
    "fieldlist = arcpy.ListFields('cb_2018_29_bg_500k.shp')\n",
    "\n",
    "numberList = ['Double', 'Integer', 'SmallInteger', 'Single']\n",
    "for field in fieldlist:\n",
    "    if field.type in numberList:\n",
    "        print(field.name, field.type)"
   ]
  },
  {
   "cell_type": "code",
   "execution_count": 63,
   "metadata": {},
   "outputs": [],
   "source": [
    "def printNumericalFieldNames(inputFc, workspace):\n",
    "    \n",
    "    fieldlist = arcpy.ListFields(inputFc)\n",
    "\n",
    "    numberList = ['Double', 'Integer', 'SmallInteger', 'Single']\n",
    "    for field in fieldlist:\n",
    "        if field.type in numberList:\n",
    "            print(field.name, field.type)"
   ]
  },
  {
   "cell_type": "code",
   "execution_count": 64,
   "metadata": {},
   "outputs": [
    {
     "name": "stdout",
     "output_type": "stream",
     "text": [
      "ALAND Double\n",
      "AWATER Double\n"
     ]
    }
   ],
   "source": [
    "printNumericalFieldNames('cb_2018_29_bg_500k.shp', arcpy.env.workspace)"
   ]
  },
  {
   "cell_type": "code",
   "execution_count": null,
   "metadata": {},
   "outputs": [],
   "source": [
    "def exportFeatureClassesByShapeType(input_geodatabase, shapeType, output_geodatabase):\n",
    "    \n",
    "    arcpy.management.CreateFileGDB(arcpy.env.workspace, output_geodatabase)\n",
    "\n",
    "    fcList = arcpy.ListFeatureClasses()\n",
    "\n",
    "    for fc in fcList:\n",
    "        geom_type = arcpy.Describe(fc).shapeType\n",
    "        if geom_type == shapeType:\n",
    "            outFeatureClass = os.path.join(arcpy.env.workspace, oputput_geodatabase, fc.strip(\".shp\"))\n",
    "            arcpy.CopyFeatures_management(fc, outFeatureClass)"
   ]
  },
  {
   "cell_type": "code",
   "execution_count": 39,
   "metadata": {},
   "outputs": [
    {
     "ename": "ExecuteError",
     "evalue": "Failed to execute. Parameters are not valid.\nERROR 000732: File GDB Location: Dataset E:\\My Drive\\School\\College\\06 Grad Full\\Semester 2\\Geospatial Programming\\Project 2Default.gdb does not exist or is not supported\nFailed to execute (CreateFileGDB).\n",
     "output_type": "error",
     "traceback": [
      "\u001b[0;31m---------------------------------------------------------------------------\u001b[0m\n\u001b[0;31mExecuteError\u001b[0m                              Traceback (most recent call last)",
      "In  \u001b[0;34m[39]\u001b[0m:\nLine \u001b[0;34m5\u001b[0m:     arcpy.management.CreateFileGDB(arcpy.env.workspace, gdb_output)\n",
      "File \u001b[0;34mC:\\Program Files\\ArcGIS\\Pro\\Resources\\ArcPy\\arcpy\\management.py\u001b[0m, in \u001b[0;32mCreateFileGDB\u001b[0m:\nLine \u001b[0;34m23051\u001b[0m: \u001b[34mraise\u001b[39;49;00m e\n",
      "File \u001b[0;34mC:\\Program Files\\ArcGIS\\Pro\\Resources\\ArcPy\\arcpy\\management.py\u001b[0m, in \u001b[0;32mCreateFileGDB\u001b[0m:\nLine \u001b[0;34m23048\u001b[0m: retval = convertArcObjectToPythonObject(gp.CreateFileGDB_management(*gp_fixargs((out_folder_path, out_name, out_version), \u001b[34mTrue\u001b[39;49;00m)))\n",
      "File \u001b[0;34mC:\\Program Files\\ArcGIS\\Pro\\Resources\\ArcPy\\arcpy\\geoprocessing\\_base.py\u001b[0m, in \u001b[0;32m<lambda>\u001b[0m:\nLine \u001b[0;34m511\u001b[0m:   \u001b[34mreturn\u001b[39;49;00m \u001b[34mlambda\u001b[39;49;00m *args: val(*gp_fixargs(args, \u001b[34mTrue\u001b[39;49;00m))\n",
      "\u001b[0;31mExecuteError\u001b[0m: Failed to execute. Parameters are not valid.\nERROR 000732: File GDB Location: Dataset E:\\My Drive\\School\\College\\06 Grad Full\\Semester 2\\Geospatial Programming\\Project 2Default.gdb does not exist or is not supported\nFailed to execute (CreateFileGDB).\n\n\u001b[0;31m---------------------------------------------------------------------------\u001b[0m"
     ]
    }
   ],
   "source": [
    "gdb_input = \"Default.gdb\"\n",
    "gdb_output = \"Test.gdb\"\n",
    "shapeType = 'Polygon'\n",
    "\n",
    "arcpy.management.CreateFileGDB(arcpy.env.workspace, gdb_output)\n",
    "\n",
    "arcpy.env.workspace = arcpy.env.workspace + \"\\\\\" + gdb_input\n",
    "\n",
    "# fcList = arcpy.ListFeatureClasses()\n",
    "    \n",
    "# for fc in fcList:\n",
    "#     geom_type = arcpy.Describe(fc).shapeType\n",
    "#     if geom_type == shapeType:\n",
    "#         outFeatureClass = os.path.join(gdb_output, fc.strip(\".shp\"))\n",
    "#         arcpy.CopyFeatures_management(fc, outFeatureClass)"
   ]
  },
  {
   "cell_type": "code",
   "execution_count": 34,
   "metadata": {},
   "outputs": [
    {
     "data": {
      "text/plain": [
       "'E:\\\\My Drive\\\\School\\\\College\\\\06 Grad Full\\\\Semester 2\\\\Geospatial Programming\\\\Project 2Default.gdb'"
      ]
     },
     "execution_count": 34,
     "metadata": {},
     "output_type": "execute_result"
    }
   ],
   "source": [
    "arcpy.env.workspace"
   ]
  },
  {
   "cell_type": "code",
   "execution_count": null,
   "metadata": {},
   "outputs": [],
   "source": [
    "#\n",
    "#\n",
    "#\n",
    "#\n",
    "#\n",
    "#\n",
    "#\n",
    "#\n",
    "#\n",
    "#\n",
    "#\n",
    "#\n",
    "#\n",
    "#\n",
    "#\n",
    "#\n",
    "#\n",
    "#\n",
    "#\n",
    "#\n",
    "#\n",
    "#\n",
    "#\n",
    "#\n",
    "#\n"
   ]
  }
 ],
 "metadata": {
  "kernelspec": {
   "display_name": "ArcGISPro",
   "language": "Python",
   "name": "python3"
  },
  "language_info": {
   "file_extension": ".py",
   "name": "python",
   "version": "3"
  }
 },
 "nbformat": 4,
 "nbformat_minor": 2
}

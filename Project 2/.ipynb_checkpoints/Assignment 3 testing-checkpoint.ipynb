{
 "cells": [
  {
   "cell_type": "code",
   "execution_count": 66,
   "metadata": {},
   "outputs": [],
   "source": [
    "import arcpy\n",
    "from arcpy import env\n",
    "import os\n",
    "arcpy.env.overwriteOutput = True"
   ]
  },
  {
   "cell_type": "code",
   "execution_count": 85,
   "metadata": {},
   "outputs": [
    {
     "name": "stdout",
     "output_type": "stream",
     "text": [
      "E:\\My Drive\\School\\College\\06 Grad Full\\Semester 2\\Geospatial Programming\\Project 2\\Data\n"
     ]
    }
   ],
   "source": [
    "arcpy.env.workspace = r\"E:\\My Drive\\School\\College\\06 Grad Full\\Semester 2\\Geospatial Programming\\Project 2\\Data\"\n",
    "print(arcpy.env.workspace)"
   ]
  },
  {
   "cell_type": "code",
   "execution_count": 36,
   "metadata": {},
   "outputs": [],
   "source": [
    "def printFeatureClassNames(workspace):\n",
    "    fcList = arcpy.ListFeatureClasses()\n",
    "    \n",
    "    for fc in fcList:\n",
    "        geom_type = arcpy.Describe(fc).shapeType\n",
    "        print(\"{0} is a {1} feature class\".format(fc, geom_type))"
   ]
  },
  {
   "cell_type": "code",
   "execution_count": 37,
   "metadata": {
    "scrolled": false
   },
   "outputs": [
    {
     "name": "stdout",
     "output_type": "stream",
     "text": [
      "missouri_highway.shp is a Polyline feature class\n",
      "FEMA_Floodplain.shp is a Polygon feature class\n",
      "cb_2018_29_bg_500k.shp is a Polygon feature class\n"
     ]
    }
   ],
   "source": [
    "printFeatureClassNames(arcpy.env.workspace)"
   ]
  },
  {
   "cell_type": "code",
   "execution_count": 61,
   "metadata": {},
   "outputs": [
    {
     "name": "stdout",
     "output_type": "stream",
     "text": [
      "ALAND Double\n",
      "AWATER Double\n"
     ]
    }
   ],
   "source": [
    "fieldlist = arcpy.ListFields('cb_2018_29_bg_500k.shp')\n",
    "\n",
    "numberList = ['Double', 'Integer', 'SmallInteger', 'Single']\n",
    "for field in fieldlist:\n",
    "    if field.type in numberList:\n",
    "        print(field.name, field.type)"
   ]
  },
  {
   "cell_type": "code",
   "execution_count": 63,
   "metadata": {},
   "outputs": [],
   "source": [
    "def printNumericalFieldNames(inputFc, workspace):\n",
    "    \n",
    "    fieldlist = arcpy.ListFields(inputFc)\n",
    "\n",
    "    numberList = ['Double', 'Integer', 'SmallInteger', 'Single']\n",
    "    for field in fieldlist:\n",
    "        if field.type in numberList:\n",
    "            print(field.name, field.type)"
   ]
  },
  {
   "cell_type": "code",
   "execution_count": 64,
   "metadata": {},
   "outputs": [
    {
     "name": "stdout",
     "output_type": "stream",
     "text": [
      "ALAND Double\n",
      "AWATER Double\n"
     ]
    }
   ],
   "source": [
    "printNumericalFieldNames('cb_2018_29_bg_500k.shp', arcpy.env.workspace)"
   ]
  },
  {
   "cell_type": "code",
   "execution_count": null,
   "metadata": {},
   "outputs": [],
   "source": [
    "def exportFeatureClassesByShapeType(input_geodatabase, shapeType, output_geodatabase):\n",
    "    \n",
    "    arcpy.management.CreateFileGDB(arcpy.env.workspace, output_geodatabase)\n",
    "\n",
    "    fcList = arcpy.ListFeatureClasses()\n",
    "\n",
    "    for fc in fcList:\n",
    "        geom_type = arcpy.Describe(fc).shapeType\n",
    "        if geom_type == shapeType:\n",
    "            outFeatureClass = os.path.join(arcpy.env.workspace, oputput_geodatabase, fc.strip(\".shp\"))\n",
    "            arcpy.CopyFeatures_management(fc, outFeatureClass)"
   ]
  },
  {
   "cell_type": "code",
   "execution_count": 88,
   "metadata": {},
   "outputs": [],
   "source": [
    "gdb_input = r\"E:\\My Drive\\School\\College\\06 Grad Full\\Semester 2\\Geospatial Programming\\Project 2\\Default.gdb\"\n",
    "gdb_output = \"Dong.gdb\"\n",
    "shapeType = 'Polygon'\n",
    "\n",
    "path = r\"E:\\My Drive\\School\\College\\06 Grad Full\\Semester 2\\Geospatial Programming\\Project 2\"\n",
    "\n",
    "arcpy.management.CreateFileGDB(path, gdb_output)\n",
    "\n",
    "arcpy.env.workspace = gdb_input\n",
    "\n",
    "fcList = arcpy.ListFeatureClasses()\n",
    "    \n",
    "for fc in fcList:\n",
    "    geom_type = arcpy.Describe(fc).shapeType\n",
    "    if geom_type == shapeType:\n",
    "        outFeatureClass = os.path.join(gdb_output, fc.strip(\".shp\"))\n",
    "        arcpy.CopyFeatures_management(fc, outFeatureClass)"
   ]
  },
  {
   "cell_type": "code",
   "execution_count": null,
   "metadata": {},
   "outputs": [],
   "source": []
  },
  {
   "cell_type": "code",
   "execution_count": null,
   "metadata": {},
   "outputs": [],
   "source": [
    "#\n",
    "#\n",
    "#\n",
    "#\n",
    "#\n",
    "#\n",
    "#\n",
    "#\n",
    "#\n",
    "#\n",
    "#\n",
    "#\n",
    "#\n",
    "#\n",
    "#\n",
    "#\n",
    "#\n",
    "#\n",
    "#\n",
    "#\n",
    "#\n",
    "#\n",
    "#\n",
    "#\n",
    "#\n"
   ]
  }
 ],
 "metadata": {
  "kernelspec": {
   "display_name": "ArcGISPro",
   "language": "Python",
   "name": "python3"
  },
  "language_info": {
   "file_extension": ".py",
   "name": "python",
   "version": "3"
  }
 },
 "nbformat": 4,
 "nbformat_minor": 2
}

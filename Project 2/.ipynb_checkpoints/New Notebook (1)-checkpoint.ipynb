{
 "cells": [
  {
   "cell_type": "code",
   "execution_count": 1,
   "metadata": {},
   "outputs": [],
   "source": [
    "import arcpy\n",
    "import os"
   ]
  },
  {
   "cell_type": "code",
   "execution_count": 2,
   "metadata": {},
   "outputs": [
    {
     "name": "stdout",
     "output_type": "stream",
     "text": [
      "E:\\My Drive\\School\\College\\06 Grad Full\\Semester 2\\Geospatial Programming\\Project 2\\chp9Data\n"
     ]
    }
   ],
   "source": [
    "arcpy.env.workspace = r\"E:\\My Drive\\School\\College\\06 Grad Full\\Semester 2\\Geospatial Programming\\Project 2\\chp9Data\"\n",
    "print(arcpy.env.workspace)"
   ]
  },
  {
   "cell_type": "code",
   "execution_count": 7,
   "metadata": {},
   "outputs": [],
   "source": [
    "def printFeatureClassNames(workspace):\n",
    "    fcList = arcpy.ListFeatureClasses()\n",
    "    \n",
    "    for fc in fcList:\n",
    "        print(\"{0} is a {1} feature class\".format(fc, fc.featureType) )"
   ]
  },
  {
   "cell_type": "code",
   "execution_count": 8,
   "metadata": {},
   "outputs": [
    {
     "ename": "TypeError",
     "evalue": "'NoneType' object is not iterable",
     "output_type": "error",
     "traceback": [
      "\u001b[0;31m---------------------------------------------------------------------------\u001b[0m\n\u001b[0;31mTypeError\u001b[0m                                 Traceback (most recent call last)",
      "In  \u001b[0;34m[8]\u001b[0m:\nLine \u001b[0;34m1\u001b[0m:     printFeatureClassNames(arcpy.env.workspace)\n",
      "In  \u001b[0;34m[7]\u001b[0m:\nLine \u001b[0;34m4\u001b[0m:     \u001b[34mfor\u001b[39;49;00m fc \u001b[35min\u001b[39;49;00m fcList:\n",
      "\u001b[0;31mTypeError\u001b[0m: 'NoneType' object is not iterable\n\u001b[0;31m---------------------------------------------------------------------------\u001b[0m"
     ]
    }
   ],
   "source": [
    "printFeatureClassNames(arcpy.env.workspace)"
   ]
  },
  {
   "cell_type": "code",
   "execution_count": null,
   "metadata": {},
   "outputs": [],
   "source": [
    " fcList = arcpy.ListFeatureClasses()\n",
    "    \n",
    "    for fc in fcList:\n",
    "        print(\"{0} is a {1} feature class\".format(fc, fc.featureType) )"
   ]
  }
 ],
 "metadata": {
  "kernelspec": {
   "display_name": "ArcGISPro",
   "language": "Python",
   "name": "python3"
  },
  "language_info": {
   "file_extension": ".py",
   "name": "python",
   "version": "3"
  }
 },
 "nbformat": 4,
 "nbformat_minor": 2
}

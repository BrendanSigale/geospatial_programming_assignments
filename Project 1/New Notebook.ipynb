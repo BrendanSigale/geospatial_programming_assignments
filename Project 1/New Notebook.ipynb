{
 "cells": [
  {
   "cell_type": "code",
   "execution_count": 1,
   "metadata": {},
   "outputs": [],
   "source": [
    "import arcpy\n",
    "import os"
   ]
  },
  {
   "cell_type": "code",
   "execution_count": 12,
   "metadata": {},
   "outputs": [
    {
     "name": "stdout",
     "output_type": "stream",
     "text": [
      "E:\\My Drive\\School\\College\\06 Grad Full\\Semester 2\\Geospatial Programming\\Project 1\\chp9Data\n"
     ]
    }
   ],
   "source": [
    "arcpy.env.workspace = r\"E:\\My Drive\\School\\College\\06 Grad Full\\Semester 2\\Geospatial Programming\\Project 1\\chp9Data\"\n",
    "print(arcpy.env.workspace)\n",
    "arcpy.env.overwriteOutput = True"
   ]
  },
  {
   "cell_type": "code",
   "execution_count": 3,
   "metadata": {},
   "outputs": [
    {
     "name": "stdout",
     "output_type": "stream",
     "text": [
      "['interstates.shp', 'Partial_Streets.shp', 'railway.shp']\n"
     ]
    }
   ],
   "source": [
    "fclist = arcpy.ListFeatureClasses('*', 'Polyline')\n",
    "print(fclist)"
   ]
  },
  {
   "cell_type": "code",
   "execution_count": 13,
   "metadata": {},
   "outputs": [
    {
     "name": "stdout",
     "output_type": "stream",
     "text": [
      "------ Performing buffer analysis for polyline features interstates.shp\n",
      "------------ Buffer Analysis of  interstates.shp  has completed\n",
      "------ Performing buffer analysis for polyline features Partial_Streets.shp\n",
      "------------ Buffer Analysis of  Partial_Streets.shp  has completed\n",
      "------ Performing buffer analysis for polyline features railway.shp\n",
      "------------ Buffer Analysis of  railway.shp  has completed\n"
     ]
    }
   ],
   "source": [
    "for fc in fclist:\n",
    "    print('------ Performing buffer analysis for polyline features', fc)\n",
    "    inputFCName = fc[0:-4].lower()\n",
    "    bufferFCName = inputFCName + \"_buffer.shp\"\n",
    "    buffer = 0\n",
    "    if \"interstates\" in fc:\n",
    "        buffer = 1000\n",
    "    elif \"Streets\" in fc:\n",
    "        buffer = 10\n",
    "    elif \"railway\" in fc:\n",
    "        buffer = 500\n",
    "    arcpy.Buffer_analysis(fc, bufferFCName, str(buffer) + \" Meters\")\n",
    "    print(\"------------ Buffer Analysis of \", fc, \" has completed\")"
   ]
  },
  {
   "cell_type": "code",
   "execution_count": 5,
   "metadata": {},
   "outputs": [
    {
     "name": "stdout",
     "output_type": "stream",
     "text": [
      "FID is a type of OID with a length of 4\n",
      "Shape is a type of Geometry with a length of 0\n",
      "FRAARCID is a type of Double with a length of 19\n",
      "MILES is a type of Double with a length of 19\n",
      "STATEAB is a type of String with a length of 2\n",
      "STCNTYFIPS is a type of String with a length of 5\n",
      "FRAREGION is a type of Double with a length of 11\n",
      "RROWNER1 is a type of String with a length of 4\n",
      "RROWNER2 is a type of String with a length of 4\n",
      "RROWNER3 is a type of String with a length of 4\n",
      "TRKRGHTS1 is a type of String with a length of 4\n",
      "TRKRGHTS2 is a type of String with a length of 4\n",
      "TRKRGHTS3 is a type of String with a length of 4\n",
      "TRKRGHTS4 is a type of String with a length of 4\n",
      "TRKRGHTS5 is a type of String with a length of 4\n",
      "TRKRGHTS6 is a type of String with a length of 4\n",
      "TRKRGHTS7 is a type of String with a length of 4\n",
      "TRKRGHTS8 is a type of String with a length of 4\n",
      "TRKRGHTS9 is a type of String with a length of 4\n",
      "STRACNET is a type of String with a length of 1\n",
      "SIGSYS is a type of String with a length of 3\n",
      "FRFRANODE is a type of Double with a length of 19\n",
      "TOFRANODE is a type of Double with a length of 19\n",
      "DEN05CODE is a type of Double with a length of 11\n",
      "NET is a type of String with a length of 1\n",
      "PASSNGR is a type of String with a length of 4\n",
      "VERSION is a type of String with a length of 2\n",
      "STFIPS is a type of String with a length of 2\n"
     ]
    }
   ],
   "source": [
    "fieldlist = arcpy.ListFields('railway.shp')\n",
    "for field in fieldlist:\n",
    "    print(\"{0} is a type of {1} with a length of {2}\"\n",
    "          .format(field.name, field.type, field.length))"
   ]
  },
  {
   "cell_type": "code",
   "execution_count": 6,
   "metadata": {},
   "outputs": [
    {
     "name": "stdout",
     "output_type": "stream",
     "text": [
      "------------\n",
      "E:\\My Drive\\School\\College\\06 Grad Full\\Semester 2\\Geospatial Programming\\Project 1\\chp9Data\n",
      "['bookSampleData.gdb', 'Default.gdb']\n",
      "['amtk_sta.shp', 'interstates.shp', 'Partial_Streets.shp', 'railway.shp', 'school.shp', 'states.shp', 'interstates_buffer.shp', 'partial_streets_buffer.shp', 'railway_buffer.shp', 'states_NAD83.shp']\n",
      "------------\n",
      "E:\\My Drive\\School\\College\\06 Grad Full\\Semester 2\\Geospatial Programming\\Project 1\\chp9Data\\bookSampleData.gdb\n",
      "[]\n",
      "['bearMove', 'roads', 'railway', 'school', 'out2', 'out1', 'RailwaySmall', 'out0', 'sum0']\n",
      "------------\n",
      "E:\\My Drive\\School\\College\\06 Grad Full\\Semester 2\\Geospatial Programming\\Project 1\\chp9Data\\Default.gdb\n",
      "['results']\n",
      "[]\n",
      "------------\n",
      "E:\\My Drive\\School\\College\\06 Grad Full\\Semester 2\\Geospatial Programming\\Project 1\\chp9Data\\Default.gdb\\results\n",
      "[]\n",
      "[]\n"
     ]
    }
   ],
   "source": [
    "for dirpath, dirnames, filenames in arcpy.da.Walk(arcpy.env.workspace):\n",
    "    print(\"------------\")\n",
    "    print(dirpath)\n",
    "    print(dirnames)\n",
    "    print(filenames)"
   ]
  },
  {
   "cell_type": "code",
   "execution_count": 7,
   "metadata": {},
   "outputs": [
    {
     "name": "stdout",
     "output_type": "stream",
     "text": [
      "Polyline\n"
     ]
    }
   ],
   "source": [
    "descRailway = arcpy.Describe('railway.shp')\n",
    "print(descRailway.shapeType)"
   ]
  },
  {
   "cell_type": "code",
   "execution_count": 8,
   "metadata": {},
   "outputs": [
    {
     "name": "stdout",
     "output_type": "stream",
     "text": [
      "['amtk_sta.shp', 'interstates.shp', 'Partial_Streets.shp', 'railway.shp', 'school.shp', 'states.shp', 'interstates_buffer.shp', 'partial_streets_buffer.shp', 'railway_buffer.shp', 'states_NAD83.shp']\n"
     ]
    }
   ],
   "source": [
    "fclist2 = arcpy.ListFeatureClasses()\n",
    "print(fclist2)"
   ]
  },
  {
   "cell_type": "code",
   "execution_count": 9,
   "metadata": {},
   "outputs": [
    {
     "name": "stdout",
     "output_type": "stream",
     "text": [
      "amtk_sta.shp : NAD_1983_UTM_Zone_18N\n",
      "interstates.shp : NAD_1983_StatePlane_Maryland_FIPS_1900\n",
      "Partial_Streets.shp has an unknown spatial reference\n",
      "railway.shp : GCS_North_American_1983\n",
      "school.shp : NAD_1983_StatePlane_Ohio_South_FIPS_3402_Feet\n",
      "states.shp : NAD_1983_UTM_Zone_18N\n",
      "interstates_buffer.shp : NAD_1983_StatePlane_Maryland_FIPS_1900\n",
      "partial_streets_buffer.shp has an unknown spatial reference\n",
      "railway_buffer.shp : GCS_North_American_1983\n",
      "states_NAD83.shp : GCS_North_American_1983\n"
     ]
    }
   ],
   "source": [
    "for fc in fclist2:\n",
    "    \n",
    "    #create spatial reference object\n",
    "    spatial_ref = arcpy.Describe(fc).spatialReference\n",
    "    \n",
    "    #If spatial reference is unknown\n",
    "    if spatial_ref.name == 'Unknown':\n",
    "        print(\"{} has an unknown spatial reference\".format(fc))\n",
    "        \n",
    "    #otherwise print out feature class name and spatial reference\n",
    "    else:\n",
    "        print(\"{} : {}\".format(fc, spatial_ref.name))"
   ]
  },
  {
   "cell_type": "code",
   "execution_count": 34,
   "metadata": {},
   "outputs": [
    {
     "data": {
      "text/html": [
       "<h2>Output</h2>E:\\My Drive\\School\\College\\06 Grad Full\\Semester 2\\Geospatial Programming\\Project 1\\chp9Data\\states_NAD83.shp<h2>Messages</h2>Start Time: Tuesday, March 2, 2021 11:22:07 PM<br/>Succeeded at Tuesday, March 2, 2021 11:22:17 PM (Elapsed Time: 9.59 seconds)<br/><style>.rendered_html td, .rendered_html th {text-align: left;}.rendered_html tbody {border: 1px solid black;}</style>"
      ],
      "text/plain": [
       "<Result 'E:\\\\My Drive\\\\School\\\\College\\\\06 Grad Full\\\\Semester 2\\\\Geospatial Programming\\\\Project 1\\\\chp9Data\\\\states_NAD83.shp'>"
      ]
     },
     "execution_count": 34,
     "metadata": {},
     "output_type": "execute_result"
    }
   ],
   "source": [
    "railwaySR = arcpy.Describe(\"railway.shp\").spatialReference\n",
    "arcpy.Project_management(\"states.shp\", \"states_NAD83.shp\", railwaySR)"
   ]
  },
  {
   "cell_type": "markdown",
   "metadata": {},
   "source": [
    "# Cursors"
   ]
  },
  {
   "cell_type": "markdown",
   "metadata": {},
   "source": [
    "### Search Cursor"
   ]
  },
  {
   "cell_type": "markdown",
   "metadata": {},
   "source": [
    "Search cursor on **States, Median Age**."
   ]
  },
  {
   "cell_type": "code",
   "execution_count": 35,
   "metadata": {},
   "outputs": [
    {
     "name": "stdout",
     "output_type": "stream",
     "text": [
      "State Name: West Virginia, Pct Age 5-17: 16.622279831713435 5\n",
      "State Name: Virginia, Pct Age 5-17: 18.03033545877914 5\n",
      "State Name: District of Columbia, Pct Age 5-17: 14.413897867178035 5\n",
      "State Name: Delaware, Pct Age 5-17: 18.256253190403267 5\n",
      "State Name: Maryland, Pct Age 5-17: 18.93291136802778 5\n",
      "State Name: Pennsylvania, Pct Age 5-17: 17.868311628627314 5\n",
      "State Name: New Jersey, Pct Age 5-17: 18.10921818084582 5\n"
     ]
    }
   ],
   "source": [
    "from arcpy import env\n",
    "fc_search = \"states_NAD83.shp\"\n",
    "fields = [\"STATE_NAME\", \"AGE_5_17\", \"POP2000\"]\n",
    "\n",
    "search_cursor = arcpy.da.SearchCursor(fc_search, fields)\n",
    "# for row in search_cursor:\n",
    "#     print(\"State Name: {0}, Median Age: {1}, AGE_5_17: {2}, Population in 2000: {3}\"\n",
    "#           .format(row[0], row[1], row[2], row[3]))\n",
    "    \n",
    "for row in search_cursor:\n",
    "    print(\"State Name: {0}, Pct Age 5-17: {1}\".format(row[0], row[1] / row[2] * 100), 5)"
   ]
  },
  {
   "cell_type": "markdown",
   "metadata": {},
   "source": [
    "Creating a new fields."
   ]
  },
  {
   "cell_type": "markdown",
   "metadata": {},
   "source": [
    "### Update Cursor"
   ]
  },
  {
   "cell_type": "code",
   "execution_count": 36,
   "metadata": {},
   "outputs": [
    {
     "data": {
      "text/html": [
       "<h2>Output</h2>E:\\My Drive\\School\\College\\06 Grad Full\\Semester 2\\Geospatial Programming\\Project 1\\chp9Data\\states_NAD83.shp<h2>Messages</h2>Start Time: Tuesday, March 2, 2021 11:22:51 PM<br/>Adding pctage5_17 to states_NAD83...<br/>Succeeded at Tuesday, March 2, 2021 11:22:58 PM (Elapsed Time: 7.25 seconds)<br/><style>.rendered_html td, .rendered_html th {text-align: left;}.rendered_html tbody {border: 1px solid black;}</style>"
      ],
      "text/plain": [
       "<Result 'E:\\\\My Drive\\\\School\\\\College\\\\06 Grad Full\\\\Semester 2\\\\Geospatial Programming\\\\Project 1\\\\chp9Data\\\\states_NAD83.shp'>"
      ]
     },
     "execution_count": 36,
     "metadata": {},
     "output_type": "execute_result"
    }
   ],
   "source": [
    "fc_updateCursor = \"states_NAD83.shp\"\n",
    "arcpy.AddField_management(fc_updateCursor, \"pctage5_17\", \"FLOAT\") # 10 character field name limit"
   ]
  },
  {
   "cell_type": "markdown",
   "metadata": {},
   "source": [
    "Update Cursor on **Percent Age 5-17**"
   ]
  },
  {
   "cell_type": "code",
   "execution_count": 38,
   "metadata": {},
   "outputs": [],
   "source": [
    "fields = [\"AGE_5_17\", \"POP2000\", \"pctage5_17\"]\n",
    "\n",
    "with arcpy.da.UpdateCursor(fc_updateCursor, fields) as cursor:\n",
    "    for row in cursor:\n",
    "        ## update pct age 5-17 using \"AGE_5_17\" and \"POP2000\"\n",
    "        row[2] = row[0] / row[1] * 100\n",
    "        cursor.updateRow(row)\n",
    "    del row\n",
    "del cursor"
   ]
  },
  {
   "cell_type": "markdown",
   "metadata": {},
   "source": [
    "### Insert Cursor "
   ]
  },
  {
   "cell_type": "code",
   "execution_count": 40,
   "metadata": {},
   "outputs": [
    {
     "data": {
      "text/html": [
       "<h2>Output</h2>E:\\My Drive\\School\\College\\06 Grad Full\\Semester 2\\Geospatial Programming\\Project 1\\chp9Data\\test_states.dbf<h2>Messages</h2>Start Time: Tuesday, March 2, 2021 11:26:50 PM<br/>Succeeded at Tuesday, March 2, 2021 11:27:01 PM (Elapsed Time: 10.42 seconds)<br/><style>.rendered_html td, .rendered_html th {text-align: left;}.rendered_html tbody {border: 1px solid black;}</style>"
      ],
      "text/plain": [
       "<Result 'E:\\\\My Drive\\\\School\\\\College\\\\06 Grad Full\\\\Semester 2\\\\Geospatial Programming\\\\Project 1\\\\chp9Data\\\\test_states.dbf'>"
      ]
     },
     "execution_count": 40,
     "metadata": {},
     "output_type": "execute_result"
    }
   ],
   "source": [
    "## making up a table from states_NAD83 to have data to work with\n",
    "inTable = \"states_NAD83.dbf\"\n",
    "outTable = \"test_states.dbf\"\n",
    "# arcpy.TableToTable_conversion(inTable, arcpy.env.workspace, outTable)"
   ]
  },
  {
   "cell_type": "code",
   "execution_count": 41,
   "metadata": {},
   "outputs": [],
   "source": [
    "states_to_insert = [\"North Carolina\", \"South Carolina\", \"Georgia\"]\n",
    "with arcpy.da.InsertCursor(outTable, \"STATE_NAME\") as cursor:\n",
    "    for state in states_to_insert:\n",
    "        cursor.insertRow([state])\n",
    "del cursor"
   ]
  },
  {
   "cell_type": "code",
   "execution_count": 11,
   "metadata": {},
   "outputs": [],
   "source": [
    "#\n",
    "#\n",
    "#\n",
    "#\n",
    "#\n",
    "#\n",
    "#\n",
    "#\n",
    "#\n",
    "#\n",
    "#\n",
    "#\n",
    "#\n",
    "#\n",
    "#\n",
    "#\n",
    "#\n",
    "#\n",
    "#\n",
    "#\n",
    "#\n",
    "#\n",
    "#\n",
    "#\n",
    "#\n",
    "#\n",
    "#\n",
    "#\n",
    "#\n",
    "#\n",
    "#\n",
    "#\n",
    "#\n",
    "#\n",
    "#\n",
    "#\n",
    "#\n",
    "#\n",
    "#"
   ]
  }
 ],
 "metadata": {
  "kernelspec": {
   "display_name": "ArcGISPro",
   "language": "Python",
   "name": "python3"
  },
  "language_info": {
   "file_extension": ".py",
   "name": "python",
   "version": "3"
  },
  "varInspector": {
   "cols": {
    "lenName": 16,
    "lenType": 16,
    "lenVar": 40
   },
   "kernels_config": {
    "python": {
     "delete_cmd_postfix": "",
     "delete_cmd_prefix": "del ",
     "library": "var_list.py",
     "varRefreshCmd": "print(var_dic_list())"
    },
    "r": {
     "delete_cmd_postfix": ") ",
     "delete_cmd_prefix": "rm(",
     "library": "var_list.r",
     "varRefreshCmd": "cat(var_dic_list()) "
    }
   },
   "types_to_exclude": [
    "module",
    "function",
    "builtin_function_or_method",
    "instance",
    "_Feature"
   ],
   "window_display": false
  }
 },
 "nbformat": 4,
 "nbformat_minor": 2
}

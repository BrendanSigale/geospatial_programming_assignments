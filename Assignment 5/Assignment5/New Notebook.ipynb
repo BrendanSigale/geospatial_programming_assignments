{
 "cells": [
  {
   "cell_type": "code",
   "execution_count": 11,
   "metadata": {},
   "outputs": [],
   "source": [
    "import arcpy\n",
    "folder = r'E:\\My Drive\\School\\College\\06 Grad Full\\Semester 2\\Geospatial Programming\\Assignment 5\\Assignment5'\n",
    "arcpy.env.workspace = folder\n",
    "arcpy.arcpy.env.overwriteOutput = True"
   ]
  },
  {
   "cell_type": "code",
   "execution_count": 5,
   "metadata": {},
   "outputs": [
    {
     "name": "stdout",
     "output_type": "stream",
     "text": [
      "census2010_counties\n",
      "eu_cities\n",
      "north_america_rivers\n",
      "states48_albers\n"
     ]
    }
   ],
   "source": [
    "fcList = arcpy.ListFeatureClasses()\n",
    "for fc in fcList:\n",
    "    print(fc)"
   ]
  },
  {
   "cell_type": "markdown",
   "metadata": {},
   "source": [
    "## Question 1"
   ]
  },
  {
   "cell_type": "code",
   "execution_count": 57,
   "metadata": {},
   "outputs": [],
   "source": [
    "###################################################################### \n",
    "# Problem 1 (30 Points)\n",
    "#\n",
    "# Given a polygon feature class in a geodatabase, a count attribute of the feature class(e.g., population, disease count):\n",
    "# this function calculates and appends a new density column to the input feature class in a geodatabase.\n",
    "\n",
    "# Given any polygon feature class in the geodatabase and a count variable:\n",
    "# - Calculate the area of each polygon in square miles and append to a new column\n",
    "# - Create a field (e.g., density_sqm) and calculate the density of the selected count variable\n",
    "#   using the area of each polygon and its count variable(e.g., population) \n",
    "# \n",
    "# 1- Check whether the input variables are correct(e.g., the shape type, attribute name)\n",
    "# 2- Make sure overwrite is enabled if the field name already exists.\n",
    "# 3- Identify the input coordinate systems unit of measurement (e.g., meters, feet) for an accurate area calculation and conversion\n",
    "# 4- Give a warning message if the projection is a geographic projection(e.g., WGS84, NAD83).\n",
    "#    Remember that area calculations are not accurate in geographic coordinate systems. \n",
    "# \n",
    "###################################################################### \n",
    "def calculateDensity(fcpolygon, attribute, geodatabase = \"assignment2.gdb\"):\n",
    "    try:\n",
    "        ## overwrite enabled, update gdb\n",
    "        arcpy.arcpy.env.overwriteOutput = True\n",
    "        arcpy.env.workspace = folder + geodatabase\n",
    "        print(\"overwrite enabled and gdb updated\")\n",
    "        \n",
    "        area_field = 'area_sqmi'\n",
    "        density_field = 'density_sqm'\n",
    "        \n",
    "        ## adding new fields\n",
    "        arcpy.AddField_management(fcpolygon, area_field, \"DOUBLE\")\n",
    "        arcpy.AddField_management(fcpolygon, density_field, \"DOUBLE\")\n",
    "        print(\"new columns created\")\n",
    "        \n",
    "        ## format the expression\n",
    "        expression = '\"!'+ attribute + '!/!' + area_field + '!\"'\n",
    "        print('Expression in use: ' + expression)\n",
    "\n",
    "        ## calculate area in sqmi\n",
    "        arcpy.CalculateGeometryAttributes_management(fc, [[area_field, \"AREA_GEODESIC\"]], 'MILES_US', \"SQUARE_MILES_US\")\n",
    "        print('area calculated')\n",
    "        \n",
    "        ## calculate density\n",
    "        arcpy.CalculateField_management(fcpolygon, density_field, expression, \"PYTHON3\")\n",
    "        print('density calcaulated')\n",
    "    \n",
    "    except:\n",
    "        # By default any other errors will be caught here\n",
    "        e = sys.exc_info()[1]\n",
    "        print(e.args[0])"
   ]
  },
  {
   "cell_type": "code",
   "execution_count": 39,
   "metadata": {},
   "outputs": [
    {
     "name": "stdout",
     "output_type": "stream",
     "text": [
      "\"!POPULATION!/!area_sqmi!\"\n"
     ]
    }
   ],
   "source": [
    "attribute = 'POPULATION'\n",
    "area_field = 'area_sqmi'\n",
    "density_field = 'density_sqm'\n",
    "expression = '\"!'+ attribute + '!/!' + area_field + '!\"'\n",
    "print(expression)"
   ]
  },
  {
   "cell_type": "code",
   "execution_count": 40,
   "metadata": {},
   "outputs": [
    {
     "data": {
      "text/plain": [
       "'states48_albers'"
      ]
     },
     "execution_count": 40,
     "metadata": {},
     "output_type": "execute_result"
    }
   ],
   "source": [
    "fcpolygon = 'states48_albers'\n",
    "fcpolygon"
   ]
  },
  {
   "cell_type": "code",
   "execution_count": 59,
   "metadata": {},
   "outputs": [
    {
     "name": "stdout",
     "output_type": "stream",
     "text": [
      "overwrite enabled and gdb updated\n",
      "new columns created\n",
      "Expression in use: \"!POPULATION!/!area_sqmi!\"\n",
      "area calculated\n",
      "density calcaulated\n"
     ]
    }
   ],
   "source": [
    "calculateDensity(fcpolygon, attribute, 'hw5.gdb')"
   ]
  },
  {
   "cell_type": "markdown",
   "metadata": {
    "heading_collapsed": true
   },
   "source": [
    "### Testing"
   ]
  },
  {
   "cell_type": "code",
   "execution_count": 56,
   "metadata": {
    "hidden": true
   },
   "outputs": [
    {
     "data": {
      "text/html": [
       "<h2>Output</h2>a Layer object<h2>Messages</h2>Start Time: Monday, April 12, 2021 5:12:28 PM<br/>WARNING 000595: C:\\Users\\Bseagull\\AppData\\Local\\Temp\\ArcGISProTemp29456\\states48_albers8.fid contains the full list of records not able to be processed.<br/>WARNING 001156: Failed on input OID 1, could not write value '6962578/67260.7583709294' to output field density_sqm<br/>WARNING 001156: Failed on input OID 2, could not write value '1628760/83350.8028916132' to output field density_sqm<br/>WARNING 001156: Failed on input OID 3, could not write value '3922722/97082.1822259737' to output field density_sqm<br/>WARNING 001156: Failed on input OID 4, could not write value '2815039/110687.692374724' to output field density_sqm<br/>WARNING 001156: Failed on input OID 5, could not write value '38120066/157752.988432029' to output field density_sqm<br/>WARNING 001156: Failed on input OID 6, could not write value '1019462/147223.805178261' to output field density_sqm<br/>WARNING 001156: Failed on input OID 7, could not write value '724027/70812.469439978' to output field density_sqm<br/>WARNING 001156: Failed on input OID 8, could not write value '844322/77186.5000604423' to output field density_sqm<br/>WARNING 001156: Failed on input OID 9, could not write value '587106/97797.2056199855' to output field density_sqm<br/>WARNING 001156: Failed on input OID 10, could not write value '5401748/84517.3397460445' to output field density_sqm<br/>Succeeded at Monday, April 12, 2021 5:12:32 PM (Elapsed Time: 3.94 seconds)<br/><style>.rendered_html td, .rendered_html th {text-align: left;}.rendered_html tbody {border: 1px solid black;}</style>"
      ],
      "text/plain": [
       "<Result 'states48_albers'>"
      ]
     },
     "execution_count": 56,
     "metadata": {},
     "output_type": "execute_result"
    }
   ],
   "source": [
    "arcpy.CalculateField_management(fcpolygon, density_field, expression, \"PYTHON3\")"
   ]
  },
  {
   "cell_type": "markdown",
   "metadata": {
    "heading_collapsed": true
   },
   "source": [
    "## Question 2"
   ]
  },
  {
   "cell_type": "code",
   "execution_count": 78,
   "metadata": {
    "hidden": true
   },
   "outputs": [],
   "source": [
    "###################################################################### \n",
    "# Problem 2 (40 Points)\n",
    "# \n",
    "# Given a line feature class (e.g.,river_network.shp) and a polygon feature class (e.g.,states.shp) in a geodatabase, \n",
    "# id or name field that could uniquely identify a feature in the polygon feature class\n",
    "# and the value of the id field to select a polygon (e.g., Iowa) for using as a clip feature:\n",
    "# this function clips the linear feature class by the selected polygon boundary,\n",
    "# and then calculates and returns the total length of the line features (e.g., rivers) in miles for the selected polygon.\n",
    "# \n",
    "# 1- Check whether the input variables are correct (e.g., the shape types and the name or id of the selected polygon)\n",
    "# 2- Transform the projection of one to other if the line and polygon shapefiles have different projections\n",
    "# 3- Identify the input coordinate systems unit of measurement (e.g., meters, feet) for an accurate distance calculation and conversion\n",
    "#        \n",
    "###################################################################### \n",
    "def estimateTotalLineLengthInPolygons(fcLine, fcClipPolygon, polygonIDFieldName, clipPolygonID, geodatabase = \"assignment2.gdb\"):\n",
    "    ## overwrite enabled, update gdb\n",
    "    arcpy.arcpy.env.overwriteOutput = True\n",
    "    arcpy.env.workspace = folder + geodatabase\n",
    "    print(\"overwrite enabled and gdb updated\")\n",
    "    \n",
    "    lengthField = 'length_mi'\n",
    "    lengthTotal = 'length_total'\n",
    "    outName = 'line_overlap'\n",
    "    \n",
    "     ## add length field to polyogn\n",
    "    arcpy.AddField_management(fcClipPolygon, lengthField, \"DOUBLE\")\n",
    "    print(\"Length Field added\")\n",
    "    \n",
    "    ## Intersect Analysis\n",
    "    arcpy.Intersect_analysis([fcClipPolygon, fcLine], outName)\n",
    "    print('Intersect Analysis complete.')\n",
    "    \n",
    "    ## Length in each\n",
    "    arcpy.CalculateGeometryAttributes_management(outName, [[lengthField, \"LENGTH_GEODESIC\"]], \"MILES_US\")\n",
    "    print('Length calculated')\n",
    "    \n",
    "    polyDict = dict()\n",
    "    with arcpy.da.SearchCursor(outName, [polygonIDFieldName, lengthField]) as cursor:\n",
    "        for row in cursor:\n",
    "            id = row[0]\n",
    "            if polygonIDFieldName in polyDict.keys():\n",
    "                polyDict[id] += row[1]\n",
    "            else:\n",
    "                polyDict[id] = row[1]\n",
    "    \n",
    "    with arcpy.da.UpdateCursor(fcClipPolygon, [polygonIDFieldName, lengthField]) as cursor:\n",
    "        for row in cursor:\n",
    "            if row[0] in polyDict.keys():\n",
    "                row[1] = polyDict[row[0]]\n",
    "            else:\n",
    "                row[1] = 0\n",
    "            cursor.updateRow(row)"
   ]
  },
  {
   "cell_type": "code",
   "execution_count": 79,
   "metadata": {
    "hidden": true
   },
   "outputs": [],
   "source": [
    "fcLine = 'north_america_rivers'\n",
    "fcClipPolygon = 'census2010_counties'\n",
    "polygonIDFieldName = 'GEOID10'\n",
    "clipPolygonID = 'GEOID10'"
   ]
  },
  {
   "cell_type": "code",
   "execution_count": 80,
   "metadata": {
    "hidden": true
   },
   "outputs": [
    {
     "name": "stdout",
     "output_type": "stream",
     "text": [
      "overwrite enabled and gdb updated\n",
      "Length Field added\n",
      "Intersect Analysis complete.\n",
      "Length calculated\n"
     ]
    }
   ],
   "source": [
    "estimateTotalLineLengthInPolygons(fcLine, fcClipPolygon, polygonIDFieldName, clipPolygonID, 'hw5.gdb')"
   ]
  },
  {
   "cell_type": "markdown",
   "metadata": {
    "heading_collapsed": true,
    "hidden": true
   },
   "source": [
    "### Testing"
   ]
  },
  {
   "cell_type": "code",
   "execution_count": 72,
   "metadata": {
    "hidden": true
   },
   "outputs": [],
   "source": [
    "lengthField = 'length_mi'\n",
    "lengthTotal = 'length_total'\n",
    "outName = 'line_overlap'"
   ]
  },
  {
   "cell_type": "code",
   "execution_count": 73,
   "metadata": {
    "hidden": true
   },
   "outputs": [
    {
     "name": "stdout",
     "output_type": "stream",
     "text": [
      "Length Field added\n"
     ]
    }
   ],
   "source": [
    " ## add length field to polyogn\n",
    "arcpy.AddField_management(fcClipPolygon, lengthField, \"DOUBLE\")\n",
    "print(\"Length Field added\")"
   ]
  },
  {
   "cell_type": "code",
   "execution_count": 74,
   "metadata": {
    "hidden": true
   },
   "outputs": [
    {
     "name": "stdout",
     "output_type": "stream",
     "text": [
      "Intersect Analysis complete.\n"
     ]
    }
   ],
   "source": [
    "## Intersect Analysis\n",
    "arcpy.Intersect_analysis([fcClipPolygon, fcLine], outName)\n",
    "print('Intersect Analysis complete.')"
   ]
  },
  {
   "cell_type": "code",
   "execution_count": 75,
   "metadata": {
    "hidden": true
   },
   "outputs": [
    {
     "name": "stdout",
     "output_type": "stream",
     "text": [
      "Length calculated\n"
     ]
    }
   ],
   "source": [
    "## Length in each\n",
    "arcpy.CalculateGeometryAttributes_management(outName, [[lengthField, \"LENGTH_GEODESIC\"]], \"MILES_US\")\n",
    "print('Length calculated')"
   ]
  },
  {
   "cell_type": "code",
   "execution_count": 76,
   "metadata": {
    "hidden": true
   },
   "outputs": [
    {
     "data": {
      "text/plain": [
       "{'19063': 1.7649323513219006, '19119': 0.8663990822790417, '19143': 1.7456229545505342, '19189': 3.310783818424677, '19089': 3.1211527309500386, '19191': 2.3661065729007396, '19059': 2.476758736155351, '19109': 0.3803148376165462, '19195': 0.5980255400269998, '19131': 0.33402050767068664, '19005': 0.5000328893874033, '19167': 16.05037765833247, '19041': 4.790490575534031, '19081': 0.35779161388869046, '19033': 0.0644294842560822, '19141': 2.9076202516701106, '19147': 10.082284238191924, '19067': 7.3133793474886835, '19037': 1.1805542723665867, '19065': 2.4989940621935234, '19043': 1.1394701055887047, '19069': 1.031549048470551, '19023': 2.4316522038219834, '19017': 18.32462948777239, '19149': 9.143818807317158, '19035': 0.1177338457332449, '19021': 2.5638051221592817, '19091': 0.3623165249391645, '19151': 0.9298250713759743, '19197': 1.4982503345428768, '19061': 0.4418961215013761, '19013': 1.7212426543327783, '19055': 0.3514623817806275, '19019': 0.24618858718986497, '19187': 3.911050156628522, '19093': 0.4029999575268965, '19161': 2.948139559375646, '19079': 4.679878105659803, '19083': 1.1441805283620756, '19025': 1.5569200322467307, '19075': 4.954450861002534, '19193': 2.2228661233427083, '19097': 2.1494357669270356, '19171': 4.805207126009025, '19011': 0.10011939141418118, '19113': 0.5991504932833986, '19105': 2.3656044207321765, '19133': 0.6360259016385594, '19047': 1.7435169591099267, '19027': 0.9265229899334819, '19073': 0.6798416694165751, '19015': 2.236008198089321, '19127': 5.302845183977823, '19169': 2.9043540283651352, '19045': 0.25917766938095305, '19031': 1.816427431306836, '19085': 0.4386746064189878, '19077': 1.11895571433597, '19049': 1.8436839491785122, '19157': 7.113651624612172, '19095': 4.178316512670566, '19009': 4.210023438150701, '19165': 1.1457469638793323, '19153': 1.1890416893318045, '19103': 0.9042998141723887, '19099': 4.045385784764599, '19163': 0.20684185027070284, '19139': 0.6922656789423207, '19181': 4.061355159000472, '19125': 5.305717313450464, '19123': 0.7102406927126765, '19107': 1.1246679657513925, '19183': 8.413869365174433, '19155': 12.007514108033755, '19001': 3.9648374555703128, '19029': 0.36792226998028243, '19121': 5.0944422329043695, '19115': 2.0321125880780895, '19101': 1.5821354626984732, '19087': 0.0011739794044281031, '19137': 6.188407348335709, '19039': 0.09619533852430555, '19117': 1.2239620003632665, '19129': 1.0442424735770128, '19003': 1.819231579275012, '19135': 0.13512965662384935, '19179': 1.9482018885923416, '19175': 2.687359136038353, '19057': 0.541323813453943, '19177': 19.123017209205464, '19159': 9.957732900948578, '19185': 0.8541916965299153, '19051': 10.743848552813436, '19071': 2.0350868150310086, '19007': 1.2853076223454194, '19145': 2.340657529870882, '19053': 3.438832018416381, '19173': 18.07164446101471, '19111': 1.2282046395398007}"
      ]
     },
     "execution_count": 76,
     "metadata": {},
     "output_type": "execute_result"
    }
   ],
   "source": [
    "polyDict = dict()\n",
    "with arcpy.da.SearchCursor(outName, [polygonIDFieldName, lengthField]) as cursor:\n",
    "    for row in cursor:\n",
    "        id = row[0]\n",
    "        if polygonIDFieldName in polyDict.keys():\n",
    "            polyDict[id] += row[1]\n",
    "        else:\n",
    "            polyDict[id] = row[1]\n",
    "polyDict"
   ]
  },
  {
   "cell_type": "code",
   "execution_count": 77,
   "metadata": {
    "hidden": true
   },
   "outputs": [],
   "source": [
    "with arcpy.da.UpdateCursor(fcClipPolygon, [polygonIDFieldName, lengthField]) as cursor:\n",
    "    for row in cursor:\n",
    "        if row[0] in polyDict.keys():\n",
    "            row[1] = polyDict[row[0]]\n",
    "        else:\n",
    "            row[1] = 0\n",
    "        cursor.updateRow(row)"
   ]
  },
  {
   "cell_type": "markdown",
   "metadata": {},
   "source": [
    "## Question 3"
   ]
  },
  {
   "cell_type": "code",
   "execution_count": null,
   "metadata": {},
   "outputs": [],
   "source": [
    "######################################################################\n",
    "# Problem 3 (30 points)\n",
    "# \n",
    "# Given an input point feature class, (i.e., eu_cities.shp) and a distance threshold and unit:\n",
    "# Calculate the number of points within the distance threshold from each point (e.g., city),\n",
    "# and append the count to a new field (attribute).\n",
    "#\n",
    "# 1- Identify the input coordinate systems unit of measurement (e.g., meters, feet, degrees) for an accurate distance calculation and conversion\n",
    "# 2- If the coordinate system is geographic (latitude and longitude degrees) then calculate bearing (great circle) distance\n",
    "#\n",
    "######################################################################\n",
    "def countObservationsWithinDistance(fcPoint, distance, distanceUnit, geodatabase = \"assignment2.gdb\"):\n",
    "    ## overwrite enabled, update gdb\n",
    "    arcpy.arcpy.env.overwriteOutput = True\n",
    "    arcpy.env.workspace = folder + geodatabase\n",
    "    print(\"overwrite enabled and gdb updated\")\n",
    "    \n",
    "    \n",
    "    \n",
    "    "
   ]
  },
  {
   "cell_type": "code",
   "execution_count": 88,
   "metadata": {},
   "outputs": [],
   "source": [
    "fcPoint = 'eu_cities'\n",
    "distance = 200\n",
    "distanceUnit = 'MILES'"
   ]
  },
  {
   "cell_type": "code",
   "execution_count": null,
   "metadata": {},
   "outputs": [],
   "source": [
    "# countObservationsWithinDistance(fcPoint, distance, distanceUnit, 'hw5.gdb')"
   ]
  },
  {
   "cell_type": "markdown",
   "metadata": {
    "heading_collapsed": true
   },
   "source": [
    "### Testing"
   ]
  },
  {
   "cell_type": "code",
   "execution_count": 89,
   "metadata": {
    "hidden": true
   },
   "outputs": [
    {
     "data": {
      "text/plain": [
       "'200 MILES'"
      ]
     },
     "execution_count": 89,
     "metadata": {},
     "output_type": "execute_result"
    }
   ],
   "source": [
    "outFc = 'spatialJoin'\n",
    "distanceCombined = str(distance) + \" \" + distanceUnit\n",
    "distanceCombined"
   ]
  },
  {
   "cell_type": "code",
   "execution_count": 94,
   "metadata": {
    "hidden": true
   },
   "outputs": [
    {
     "ename": "AttributeError",
     "evalue": "'FieldMap' object has no attribute 'addFieldMap'",
     "output_type": "error",
     "traceback": [
      "\u001b[0;31m---------------------------------------------------------------------------\u001b[0m\n\u001b[0;31mAttributeError\u001b[0m                            Traceback (most recent call last)",
      "In  \u001b[0;34m[94]\u001b[0m:\nLine \u001b[0;34m2\u001b[0m:     fieldMap.addFieldMap(\u001b[33m'\u001b[39;49;00m\u001b[33mCount\u001b[39;49;00m\u001b[33m'\u001b[39;49;00m)\n",
      "\u001b[0;31mAttributeError\u001b[0m: 'FieldMap' object has no attribute 'addFieldMap'\n\u001b[0;31m---------------------------------------------------------------------------\u001b[0m"
     ]
    }
   ],
   "source": [
    "fieldMap = arcpy.FieldMap()\n",
    "fieldMap.addFieldMap('Count')\n",
    "fieldMap"
   ]
  },
  {
   "cell_type": "code",
   "execution_count": 90,
   "metadata": {
    "hidden": true
   },
   "outputs": [
    {
     "data": {
      "text/html": [
       "<h2>Output</h2>E:\\My Drive\\School\\College\\06 Grad Full\\Semester 2\\Geospatial Programming\\Assignment 5\\Assignment5\\Assignment5.gdb\\spatialJoin<h2>Messages</h2>Start Time: Monday, April 12, 2021 7:01:50 PM<br/>Succeeded at Monday, April 12, 2021 7:02:06 PM (Elapsed Time: 15.93 seconds)<br/><style>.rendered_html td, .rendered_html th {text-align: left;}.rendered_html tbody {border: 1px solid black;}</style>"
      ],
      "text/plain": [
       "<Result 'E:\\\\My Drive\\\\School\\\\College\\\\06 Grad Full\\\\Semester 2\\\\Geospatial Programming\\\\Assignment 5\\\\Assignment5\\\\Assignment5.gdb\\\\spatialJoin'>"
      ]
     },
     "execution_count": 90,
     "metadata": {},
     "output_type": "execute_result"
    }
   ],
   "source": [
    "## spatial join to acquire all within distances\n",
    "arcpy.analysis.SpatialJoin(fcPoint, fcPoint, outFc, 'JOIN_ONE_TO_ONE', '#', '#', 'WITHIN_A_DISTANCE_GEODESIC', distanceCombined)"
   ]
  },
  {
   "cell_type": "code",
   "execution_count": null,
   "metadata": {
    "hidden": true
   },
   "outputs": [],
   "source": [
    "outSummary = 'countSummary'\n",
    "arcpy.analaysis.Statistics(outFc, outSummary, [['COUNT']], 'ObjectID')"
   ]
  },
  {
   "cell_type": "code",
   "execution_count": null,
   "metadata": {
    "hidden": true
   },
   "outputs": [],
   "source": [
    "#\n",
    "#\n",
    "#\n",
    "#\n",
    "#\n",
    "#\n",
    "#\n",
    "#\n",
    "#\n",
    "#\n",
    "#\n",
    "#\n",
    "#\n",
    "#\n",
    "#\n",
    "#\n",
    "#\n",
    "#\n",
    "#\n",
    "#\n",
    "#\n",
    "#\n",
    "#\n",
    "#"
   ]
  }
 ],
 "metadata": {
  "kernelspec": {
   "display_name": "ArcGISPro",
   "language": "Python",
   "name": "python3"
  },
  "language_info": {
   "file_extension": ".py",
   "name": "python",
   "version": "3"
  }
 },
 "nbformat": 4,
 "nbformat_minor": 2
}

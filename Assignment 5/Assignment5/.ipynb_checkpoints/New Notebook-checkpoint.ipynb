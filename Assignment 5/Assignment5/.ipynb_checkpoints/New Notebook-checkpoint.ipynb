{
 "cells": [
  {
   "cell_type": "code",
   "execution_count": 1,
   "metadata": {},
   "outputs": [],
   "source": [
    "import arcpy\n",
    "folder = r'D:\\Documents\\GitHub Repos\\geospatial_programming_assignments\\Assignment 5\\Assignment5'\n",
    "arcpy.env.workspace = folder\n",
    "arcpy.arcpy.env.overwriteOutput = True"
   ]
  },
  {
   "cell_type": "code",
   "execution_count": 2,
   "metadata": {},
   "outputs": [],
   "source": [
    "fcList = arcpy.ListFeatureClasses()\n",
    "for fc in fcList:\n",
    "    print(fc)"
   ]
  },
  {
   "cell_type": "markdown",
   "metadata": {},
   "source": [
    "## Question 1"
   ]
  },
  {
   "cell_type": "code",
   "execution_count": 101,
   "metadata": {},
   "outputs": [],
   "source": [
    "###################################################################### \n",
    "# Problem 1 (30 Points)\n",
    "#\n",
    "# Given a polygon feature class in a geodatabase, a count attribute of the feature class(e.g., population, disease count):\n",
    "# this function calculates and appends a new density column to the input feature class in a geodatabase.\n",
    "\n",
    "# Given any polygon feature class in the geodatabase and a count variable:\n",
    "# - Calculate the area of each polygon in square miles and append to a new column\n",
    "# - Create a field (e.g., density_sqm) and calculate the density of the selected count variable\n",
    "#   using the area of each polygon and its count variable(e.g., population) \n",
    "# \n",
    "# 1- Check whether the input variables are correct(e.g., the shape type, attribute name)\n",
    "# 2- Make sure overwrite is enabled if the field name already exists.\n",
    "# 3- Identify the input coordinate systems unit of measurement (e.g., meters, feet) for an accurate area calculation and conversion\n",
    "# 4- Give a warning message if the projection is a geographic projection(e.g., WGS84, NAD83).\n",
    "#    Remember that area calculations are not accurate in geographic coordinate systems. \n",
    "# \n",
    "###################################################################### \n",
    "def calculateDensity(fcpolygon, attribute, geodatabase = \"assignment2.gdb\"):\n",
    "    ## overwrite enabled, update gdb\n",
    "    arcpy.arcpy.env.overwriteOutput = True\n",
    "    arcpy.env.workspace = folder + geodatabase\n",
    "    print(\"overwrite enabled and gdb updated\")\n",
    "        \n",
    "    area_field = 'area_sqmi'\n",
    "    density_field = 'density_sqm'\n",
    "    fieldList = [f.name for f in arcpy.ListFields(fcpolygon)]    \n",
    "    inputUnit = arcpy.Describe(fcpolygon).spatialReference.angularUnitName\n",
    "    numList = ['Double', 'Integer']\n",
    "    \n",
    "    if attribute not in fieldList:\n",
    "        raise ValueError('Chosen attribute not in field class')\n",
    "    if inputUnit == 'Degree':\n",
    "            print(\"WARNING: This layer uses a geographic coordinate system. Results may not be 100% accurate.\")\n",
    "\n",
    "    try:\n",
    "        ## adding new fields\n",
    "        arcpy.AddField_management(fcpolygon, area_field, \"DOUBLE\")\n",
    "        arcpy.AddField_management(fcpolygon, density_field, \"DOUBLE\")\n",
    "        print(\"new columns created\")\n",
    "        \n",
    "        ## format the expression\n",
    "        expression = '\"!'+ attribute + '!/!' + area_field + '!\"'\n",
    "        print('Expression in use: ' + expression)\n",
    "\n",
    "        ## calculate area in sqmi\n",
    "        arcpy.CalculateGeometryAttributes_management(fcpolygon, [[area_field, \"AREA_GEODESIC\"]], 'MILES_US', \"SQUARE_MILES_US\")\n",
    "        print('area calculated')\n",
    "        \n",
    "        ## calculate density\n",
    "        arcpy.CalculateField_management(fcpolygon, density_field, \"!\" + attribute + \"!/!area_sqmi!\", \"PYTHON3\")\n",
    "        print('density calcaulated')\n",
    "    \n",
    "    except:\n",
    "        # By default any other errors will be caught here\n",
    "        e = sys.exc_info()[1]\n",
    "        print(e.args[0])"
   ]
  },
  {
   "cell_type": "code",
   "execution_count": 95,
   "metadata": {},
   "outputs": [
    {
     "name": "stdout",
     "output_type": "stream",
     "text": [
      "\"!POPULATION!/!area_sqmi!\"\n"
     ]
    }
   ],
   "source": [
    "attribute = 'POPULATION'\n",
    "area_field = 'area_sqmi'\n",
    "density_field = 'density_sqm'\n",
    "expression = '\"!'+ attribute + '!/!' + area_field + '!\"'\n",
    "print(expression)"
   ]
  },
  {
   "cell_type": "code",
   "execution_count": 94,
   "metadata": {},
   "outputs": [
    {
     "data": {
      "text/plain": [
       "'states48_albers'"
      ]
     },
     "execution_count": 94,
     "metadata": {},
     "output_type": "execute_result"
    }
   ],
   "source": [
    "fcpolygon = 'states48_albers'\n",
    "fcpolygon"
   ]
  },
  {
   "cell_type": "code",
   "execution_count": 102,
   "metadata": {
    "scrolled": true
   },
   "outputs": [
    {
     "name": "stdout",
     "output_type": "stream",
     "text": [
      "overwrite enabled and gdb updated\n",
      "new columns created\n",
      "Expression in use: \"!POPULATION!/!area_sqmi!\"\n",
      "area calculated\n",
      "density calcaulated\n"
     ]
    }
   ],
   "source": [
    "calculateDensity(fcpolygon, attribute, 'hw5.gdb')"
   ]
  },
  {
   "cell_type": "markdown",
   "metadata": {
    "heading_collapsed": true
   },
   "source": [
    "### Testing"
   ]
  },
  {
   "cell_type": "code",
   "execution_count": 28,
   "metadata": {
    "hidden": true
   },
   "outputs": [
    {
     "data": {
      "text/html": [
       "<h2>Output</h2>a Layer object<h2>Messages</h2>Start Time: Wednesday, April 14, 2021 6:20:51 PM<br/>WARNING 000595: C:\\Users\\Bseagull\\AppData\\Local\\Temp\\ArcGISProTemp4976\\states48_albers5.fid contains the full list of records not able to be processed.<br/>WARNING 001156: Failed on input OID 1, could not write value '6962578/67260.76' to output field density_sqm<br/>WARNING 001156: Failed on input OID 2, could not write value '1628760/83350.8' to output field density_sqm<br/>WARNING 001156: Failed on input OID 3, could not write value '3922722/97082.18' to output field density_sqm<br/>WARNING 001156: Failed on input OID 4, could not write value '2815039/110687.7' to output field density_sqm<br/>WARNING 001156: Failed on input OID 5, could not write value '38120066/157753.0' to output field density_sqm<br/>WARNING 001156: Failed on input OID 6, could not write value '1019462/147223.8' to output field density_sqm<br/>WARNING 001156: Failed on input OID 7, could not write value '724027/70812.47' to output field density_sqm<br/>WARNING 001156: Failed on input OID 8, could not write value '844322/77186.5' to output field density_sqm<br/>WARNING 001156: Failed on input OID 9, could not write value '587106/97797.2' to output field density_sqm<br/>WARNING 001156: Failed on input OID 10, could not write value '5401748/84517.34' to output field density_sqm<br/>Succeeded at Wednesday, April 14, 2021 6:20:51 PM (Elapsed Time: 0.14 seconds)<br/><style>.rendered_html td, .rendered_html th {text-align: left;}.rendered_html tbody {border: 1px solid black;}</style>"
      ],
      "text/plain": [
       "<Result 'states48_albers'>"
      ]
     },
     "execution_count": 28,
     "metadata": {},
     "output_type": "execute_result"
    }
   ],
   "source": [
    "arcpy.CalculateField_management(fcpolygon, density_field, expression, \"PYTHON3\")"
   ]
  },
  {
   "cell_type": "markdown",
   "metadata": {},
   "source": [
    "## Question 2"
   ]
  },
  {
   "cell_type": "code",
   "execution_count": 118,
   "metadata": {},
   "outputs": [],
   "source": [
    "###################################################################### \n",
    "# Problem 2 (40 Points)\n",
    "# \n",
    "# Given a line feature class (e.g.,river_network.shp) and a polygon feature class (e.g.,states.shp) in a geodatabase, \n",
    "# id or name field that could uniquely identify a feature in the polygon feature class\n",
    "# and the value of the id field to select a polygon (e.g., Iowa) for using as a clip feature:\n",
    "# this function clips the linear feature class by the selected polygon boundary,\n",
    "# and then calculates and returns the total length of the line features (e.g., rivers) in miles for the selected polygon.\n",
    "# \n",
    "# 1- Check whether the input variables are correct (e.g., the shape types and the name or id of the selected polygon)\n",
    "# 2- Transform the projection of one to other if the line and polygon shapefiles have different projections\n",
    "# 3- Identify the input coordinate systems unit of measurement (e.g., meters, feet) for an accurate distance calculation and conversion\n",
    "#        \n",
    "###################################################################### \n",
    "def estimateTotalLineLengthInPolygons(fcLine, fcClipPolygon, polygonIDFieldName, clipPolygonID, geodatabase = \"assignment2.gdb\"):\n",
    "    ## overwrite enabled, update gdb\n",
    "    arcpy.arcpy.env.overwriteOutput = True\n",
    "    arcpy.env.workspace = folder + geodatabase\n",
    "    print(\"overwrite enabled and gdb updated\")\n",
    "    \n",
    "    lengthField = 'length_mi'\n",
    "    lengthTotal = 'length_total'\n",
    "    outName = 'line_overlap'\n",
    "    outProject = 'fcClipPolygon_projected'\n",
    "    fieldListPolygon = [f.name for f in arcpy.ListFields(fcClipPolygon)]\n",
    "    inputUnitLine = arcpy.Describe(fcLine).spatialReference.angularUnitName\n",
    "    inputUnitPolygon = arcpy.Describe(fcClipPolygon).spatialReference.angularUnitName\n",
    "    spatialRefLine = arcpy.Describe(fcLine).spatialReference.factoryCode\n",
    "    spatialRefLine_object = arcpy.Describe(fcLine).spatialReference\n",
    "    spatialRefPolygon = arcpy.Describe(fcClipPolygon).spatialReference.factoryCode\n",
    "\n",
    "    if polygonIDFieldName not in fieldListPolygon:\n",
    "        raise ValueError('Chosen attribute not in polygon field class')\n",
    "    if clipPolygonID not in fieldListPolygon:\n",
    "        raise ValueError('Chosen attribute not in polygon field class')\n",
    "    if inputUnitLine or inputUnitPolygon == 'Degree':\n",
    "            print(\"WARNING: A layer is using a geographic coordinate system. Results may not be 100% accurate.\")\n",
    "    \n",
    "    if spatialRefLine != spatialRefPolygon:\n",
    "        arcpy.management.Project(fcClipPolygon, outProject, spatialRefLine_object)   \n",
    "    \n",
    "        try:\n",
    "            ## add length field to polyogn\n",
    "            arcpy.AddField_management(fcClipPolygon, lengthField, \"DOUBLE\")\n",
    "            print(\"Length Field added\")\n",
    "\n",
    "            ## Intersect Analysis\n",
    "            arcpy.Intersect_analysis([outProject, fcLine], outName)\n",
    "            print('Intersect Analysis complete.')\n",
    "\n",
    "            ## Length in each\n",
    "            arcpy.CalculateGeometryAttributes_management(outName, [[lengthField, \"LENGTH_GEODESIC\"]], \"MILES_US\")\n",
    "            print('Length calculated')\n",
    "\n",
    "            polyDict = dict()\n",
    "            with arcpy.da.SearchCursor(outName, [clipPolygonID, lengthField]) as cursor:\n",
    "                for row in cursor:\n",
    "                    id = row[0]\n",
    "                    if polygonIDFieldName in polyDict.keys():\n",
    "                        polyDict[id] += row[1]\n",
    "                    else:\n",
    "                        polyDict[id] = row[1]\n",
    "\n",
    "            with arcpy.da.UpdateCursor(fcClipPolygon, [polygonIDFieldName, lengthField]) as cursor:\n",
    "                for row in cursor:\n",
    "                    if row[0] in polyDict.keys():\n",
    "                        row[1] = polyDict[row[0]]\n",
    "                    else:\n",
    "                        row[1] = 0\n",
    "                    cursor.updateRow(row)\n",
    "        except:\n",
    "            # By default any other errors will be caught here\n",
    "            e = sys.exc_info()[1]\n",
    "            print(e.args[0])\n",
    "          \n",
    "        arcpy.management.Delete(outProject)\n",
    "            \n",
    "    else:\n",
    "        try:\n",
    "            ## add length field to polyogn\n",
    "            arcpy.AddField_management(fcClipPolygon, lengthField, \"DOUBLE\")\n",
    "            print(\"Length Field added\")\n",
    "\n",
    "            ## Intersect Analysis\n",
    "            arcpy.Intersect_analysis([fcClipPolygon, fcLine], outName)\n",
    "            print('Intersect Analysis complete.')\n",
    "\n",
    "            ## Length in each\n",
    "            arcpy.CalculateGeometryAttributes_management(outName, [[lengthField, \"LENGTH_GEODESIC\"]], \"MILES_US\")\n",
    "            print('Length calculated')\n",
    "\n",
    "            polyDict = dict()\n",
    "            with arcpy.da.SearchCursor(outName, [clipPolygonID, lengthField]) as cursor:\n",
    "                for row in cursor:\n",
    "                    id = row[0]\n",
    "                    if polygonIDFieldName in polyDict.keys():\n",
    "                        polyDict[id] += row[1]\n",
    "                    else:\n",
    "                        polyDict[id] = row[1]\n",
    "\n",
    "            with arcpy.da.UpdateCursor(fcClipPolygon, [polygonIDFieldName, lengthField]) as cursor:\n",
    "                for row in cursor:\n",
    "                    if row[0] in polyDict.keys():\n",
    "                        row[1] = polyDict[row[0]]\n",
    "                    else:\n",
    "                        row[1] = 0\n",
    "                    cursor.updateRow(row)\n",
    "        except:\n",
    "            # By default any other errors will be caught here\n",
    "            e = sys.exc_info()[1]\n",
    "            print(e.args[0])\n",
    "    \n",
    "    arcpy.management.Delete(outName)"
   ]
  },
  {
   "cell_type": "code",
   "execution_count": 88,
   "metadata": {},
   "outputs": [],
   "source": [
    "fcLine = 'north_america_rivers'\n",
    "fcClipPolygon = 'census2010_counties'\n",
    "polygonIDFieldName = 'GEOID10'\n",
    "clipPolygonID = 'GEOID10'"
   ]
  },
  {
   "cell_type": "code",
   "execution_count": 109,
   "metadata": {},
   "outputs": [
    {
     "data": {
      "text/plain": [
       "4326"
      ]
     },
     "execution_count": 109,
     "metadata": {},
     "output_type": "execute_result"
    }
   ],
   "source": [
    "arcpy.Describe(fcLine).spatialReference.factoryCode"
   ]
  },
  {
   "cell_type": "code",
   "execution_count": 119,
   "metadata": {
    "scrolled": true
   },
   "outputs": [
    {
     "name": "stdout",
     "output_type": "stream",
     "text": [
      "overwrite enabled and gdb updated\n",
      "WARNING: A layer is using a geographic coordinate system. Results may not be 100% accurate.\n",
      "Length Field added\n",
      "Intersect Analysis complete.\n",
      "Length calculated\n"
     ]
    }
   ],
   "source": [
    "estimateTotalLineLengthInPolygons(fcLine, fcClipPolygon, polygonIDFieldName, clipPolygonID, 'hw5.gdb')"
   ]
  },
  {
   "cell_type": "markdown",
   "metadata": {
    "heading_collapsed": true
   },
   "source": [
    "### Testing"
   ]
  },
  {
   "cell_type": "code",
   "execution_count": 72,
   "metadata": {
    "hidden": true
   },
   "outputs": [],
   "source": [
    "lengthField = 'length_mi'\n",
    "lengthTotal = 'length_total'\n",
    "outName = 'line_overlap'"
   ]
  },
  {
   "cell_type": "code",
   "execution_count": 73,
   "metadata": {
    "hidden": true
   },
   "outputs": [
    {
     "name": "stdout",
     "output_type": "stream",
     "text": [
      "Length Field added\n"
     ]
    }
   ],
   "source": [
    " ## add length field to polyogn\n",
    "arcpy.AddField_management(fcClipPolygon, lengthField, \"DOUBLE\")\n",
    "print(\"Length Field added\")"
   ]
  },
  {
   "cell_type": "code",
   "execution_count": 74,
   "metadata": {
    "hidden": true
   },
   "outputs": [
    {
     "name": "stdout",
     "output_type": "stream",
     "text": [
      "Intersect Analysis complete.\n"
     ]
    }
   ],
   "source": [
    "## Intersect Analysis\n",
    "arcpy.Intersect_analysis([fcClipPolygon, fcLine], outName)\n",
    "print('Intersect Analysis complete.')"
   ]
  },
  {
   "cell_type": "code",
   "execution_count": 75,
   "metadata": {
    "hidden": true
   },
   "outputs": [
    {
     "name": "stdout",
     "output_type": "stream",
     "text": [
      "Length calculated\n"
     ]
    }
   ],
   "source": [
    "## Length in each\n",
    "arcpy.CalculateGeometryAttributes_management(outName, [[lengthField, \"LENGTH_GEODESIC\"]], \"MILES_US\")\n",
    "print('Length calculated')"
   ]
  },
  {
   "cell_type": "code",
   "execution_count": 76,
   "metadata": {
    "hidden": true
   },
   "outputs": [
    {
     "data": {
      "text/plain": [
       "{'19063': 1.7649323513219006, '19119': 0.8663990822790417, '19143': 1.7456229545505342, '19189': 3.310783818424677, '19089': 3.1211527309500386, '19191': 2.3661065729007396, '19059': 2.476758736155351, '19109': 0.3803148376165462, '19195': 0.5980255400269998, '19131': 0.33402050767068664, '19005': 0.5000328893874033, '19167': 16.05037765833247, '19041': 4.790490575534031, '19081': 0.35779161388869046, '19033': 0.0644294842560822, '19141': 2.9076202516701106, '19147': 10.082284238191924, '19067': 7.3133793474886835, '19037': 1.1805542723665867, '19065': 2.4989940621935234, '19043': 1.1394701055887047, '19069': 1.031549048470551, '19023': 2.4316522038219834, '19017': 18.32462948777239, '19149': 9.143818807317158, '19035': 0.1177338457332449, '19021': 2.5638051221592817, '19091': 0.3623165249391645, '19151': 0.9298250713759743, '19197': 1.4982503345428768, '19061': 0.4418961215013761, '19013': 1.7212426543327783, '19055': 0.3514623817806275, '19019': 0.24618858718986497, '19187': 3.911050156628522, '19093': 0.4029999575268965, '19161': 2.948139559375646, '19079': 4.679878105659803, '19083': 1.1441805283620756, '19025': 1.5569200322467307, '19075': 4.954450861002534, '19193': 2.2228661233427083, '19097': 2.1494357669270356, '19171': 4.805207126009025, '19011': 0.10011939141418118, '19113': 0.5991504932833986, '19105': 2.3656044207321765, '19133': 0.6360259016385594, '19047': 1.7435169591099267, '19027': 0.9265229899334819, '19073': 0.6798416694165751, '19015': 2.236008198089321, '19127': 5.302845183977823, '19169': 2.9043540283651352, '19045': 0.25917766938095305, '19031': 1.816427431306836, '19085': 0.4386746064189878, '19077': 1.11895571433597, '19049': 1.8436839491785122, '19157': 7.113651624612172, '19095': 4.178316512670566, '19009': 4.210023438150701, '19165': 1.1457469638793323, '19153': 1.1890416893318045, '19103': 0.9042998141723887, '19099': 4.045385784764599, '19163': 0.20684185027070284, '19139': 0.6922656789423207, '19181': 4.061355159000472, '19125': 5.305717313450464, '19123': 0.7102406927126765, '19107': 1.1246679657513925, '19183': 8.413869365174433, '19155': 12.007514108033755, '19001': 3.9648374555703128, '19029': 0.36792226998028243, '19121': 5.0944422329043695, '19115': 2.0321125880780895, '19101': 1.5821354626984732, '19087': 0.0011739794044281031, '19137': 6.188407348335709, '19039': 0.09619533852430555, '19117': 1.2239620003632665, '19129': 1.0442424735770128, '19003': 1.819231579275012, '19135': 0.13512965662384935, '19179': 1.9482018885923416, '19175': 2.687359136038353, '19057': 0.541323813453943, '19177': 19.123017209205464, '19159': 9.957732900948578, '19185': 0.8541916965299153, '19051': 10.743848552813436, '19071': 2.0350868150310086, '19007': 1.2853076223454194, '19145': 2.340657529870882, '19053': 3.438832018416381, '19173': 18.07164446101471, '19111': 1.2282046395398007}"
      ]
     },
     "execution_count": 76,
     "metadata": {},
     "output_type": "execute_result"
    }
   ],
   "source": [
    "polyDict = dict()\n",
    "with arcpy.da.SearchCursor(outName, [polygonIDFieldName, lengthField]) as cursor:\n",
    "    for row in cursor:\n",
    "        id = row[0]\n",
    "        if polygonIDFieldName in polyDict.keys():\n",
    "            polyDict[id] += row[1]\n",
    "        else:\n",
    "            polyDict[id] = row[1]\n",
    "polyDict"
   ]
  },
  {
   "cell_type": "code",
   "execution_count": 77,
   "metadata": {
    "hidden": true
   },
   "outputs": [],
   "source": [
    "with arcpy.da.UpdateCursor(fcClipPolygon, [polygonIDFieldName, lengthField]) as cursor:\n",
    "    for row in cursor:\n",
    "        if row[0] in polyDict.keys():\n",
    "            row[1] = polyDict[row[0]]\n",
    "        else:\n",
    "            row[1] = 0\n",
    "        cursor.updateRow(row)"
   ]
  },
  {
   "cell_type": "markdown",
   "metadata": {},
   "source": [
    "## Question 3"
   ]
  },
  {
   "cell_type": "code",
   "execution_count": 51,
   "metadata": {},
   "outputs": [],
   "source": [
    "######################################################################\n",
    "# Problem 3 (30 points)\n",
    "# \n",
    "# Given an input point feature class, (i.e., eu_cities.shp) and a distance threshold and unit:\n",
    "# Calculate the number of points within the distance threshold from each point (e.g., city),\n",
    "# and append the count to a new field (attribute).\n",
    "#\n",
    "# 1- Identify the input coordinate systems unit of measurement (e.g., meters, feet, degrees) for an accurate distance calculation and conversion\n",
    "# 2- If the coordinate system is geographic (latitude and longitude degrees) then calculate bearing (great circle) distance\n",
    "#\n",
    "######################################################################\n",
    "def countObservationsWithinDistance(fcPoint, distance, distanceUnit, geodatabase = \"assignment2.gdb\"):    \n",
    "    \n",
    "    ## overwrite enabled, update gdb\n",
    "    arcpy.arcpy.env.overwriteOutput = True\n",
    "    arcpy.env.workspace = folder + \"/\" + geodatabase\n",
    "    \n",
    "    ## output feature class with Count\n",
    "    outName = 'bufferOverlap'\n",
    "    overlapField = 'Points_in_Distance'\n",
    "    countCol = 'Point_Count'\n",
    "    joinField = 'OBJECTID_1'\n",
    "    inputUnit = arcpy.Describe(fcPoint).spatialReference.angularUnitName\n",
    "    inputType = arcpy.Describe(fcPoint).shapeType\n",
    "    \n",
    "    try:\n",
    "        if inputType != 'Point':\n",
    "            raise ValueError(\"Please use a point feature class to use this tool.\")\n",
    "\n",
    "        if inputUnit == 'Degree':\n",
    "            print(\"WARNING: This layer uses a geographic coordinate system. Results may not be 100% accurate.\")\n",
    "        \n",
    "        ## calculate count\n",
    "        arcpy.analysis.SummarizeNearby(fcPoint, fcPoint, outName, 'STRAIGHT_LINE', distance, distanceUnit)\n",
    "\n",
    "        ## add new field for count to fcPoint\n",
    "        arcpy.AddField_management(fcPoint, overlapField, \"DOUBLE\")\n",
    "\n",
    "        ## Create the dictionary and update it\n",
    "        countDict = dict()\n",
    "        with arcpy.da.SearchCursor(outName, [joinField, countCol]) as cursor:\n",
    "            for row in cursor:\n",
    "                id = row[0]\n",
    "                if joinField in countDict.keys():\n",
    "                    countDiiict[id] += row[1]\n",
    "                else:\n",
    "                    countDict[id] = row[1]\n",
    "\n",
    "        with arcpy.da.UpdateCursor(fcPoint, [joinField, overlapField]) as cursor:\n",
    "            for row in cursor:\n",
    "                if row[0] in countDict.keys():\n",
    "                    row[1] = countDict[row[0]]\n",
    "                else:\n",
    "                    row[1] = 0\n",
    "                cursor.updateRow(row)\n",
    "\n",
    "        ## Delete New Feature Class\n",
    "        arcpy.management.Delete(outName)\n",
    "    \n",
    "    except Exception:\n",
    "        e = sys.exc_info()[1]\n",
    "        print(e.args[0])"
   ]
  },
  {
   "cell_type": "code",
   "execution_count": 31,
   "metadata": {},
   "outputs": [],
   "source": [
    "fcPoint = 'eu_cities'\n",
    "fcPoly = 'census2010_counties'\n",
    "distance = 200\n",
    "distanceUnit = 'MILES'"
   ]
  },
  {
   "cell_type": "code",
   "execution_count": 52,
   "metadata": {
    "scrolled": false
   },
   "outputs": [],
   "source": [
    "countObservationsWithinDistance(fcPoint, distance, distanceUnit, 'hw5.gdb')"
   ]
  },
  {
   "cell_type": "code",
   "execution_count": 50,
   "metadata": {},
   "outputs": [
    {
     "data": {
      "text/plain": [
       "'D:\\\\Documents\\\\GitHub Repos\\\\geospatial_programming_assignments\\\\Assignment 5\\\\Assignment5\"hw5.gdb'"
      ]
     },
     "execution_count": 50,
     "metadata": {},
     "output_type": "execute_result"
    }
   ],
   "source": [
    "arcpy.env.workspace"
   ]
  },
  {
   "cell_type": "code",
   "execution_count": 22,
   "metadata": {},
   "outputs": [
    {
     "data": {
      "text/plain": [
       "'Degree'"
      ]
     },
     "execution_count": 22,
     "metadata": {},
     "output_type": "execute_result"
    }
   ],
   "source": [
    "arcpy.Describe(fcPoint).spatialReference.angularUnitName"
   ]
  },
  {
   "cell_type": "code",
   "execution_count": 24,
   "metadata": {},
   "outputs": [
    {
     "data": {
      "text/plain": [
       "'Point'"
      ]
     },
     "execution_count": 24,
     "metadata": {},
     "output_type": "execute_result"
    }
   ],
   "source": [
    "arcpy.Describe(fcPoint).shapeType"
   ]
  },
  {
   "cell_type": "markdown",
   "metadata": {},
   "source": [
    "### Testing"
   ]
  },
  {
   "cell_type": "code",
   "execution_count": 72,
   "metadata": {
    "scrolled": true
   },
   "outputs": [
    {
     "data": {
      "text/plain": [
       "'200 MILES'"
      ]
     },
     "execution_count": 72,
     "metadata": {},
     "output_type": "execute_result"
    }
   ],
   "source": []
  },
  {
   "cell_type": "code",
   "execution_count": 69,
   "metadata": {},
   "outputs": [
    {
     "data": {
      "text/html": [
       "<h2>Output</h2>D:\\Documents\\GitHub Repos\\geospatial_programming_assignments\\Assignment 5\\Assignment5\\Assignment5.gdb\\buffer<h2>Messages</h2>Start Time: Wednesday, April 14, 2021 6:51:28 PM<br/>Succeeded at Wednesday, April 14, 2021 6:51:29 PM (Elapsed Time: 0.71 seconds)<br/><style>.rendered_html td, .rendered_html th {text-align: left;}.rendered_html tbody {border: 1px solid black;}</style>"
      ],
      "text/plain": [
       "<Result 'D:\\\\Documents\\\\GitHub Repos\\\\geospatial_programming_assignments\\\\Assignment 5\\\\Assignment5\\\\Assignment5.gdb\\\\buffer'>"
      ]
     },
     "execution_count": 69,
     "metadata": {},
     "output_type": "execute_result"
    }
   ],
   "source": [
    "outBuffer = 'buffer'\n",
    "arcpy.analysis.Buffer(fcPoint, outBuffer, distanceCombined, )"
   ]
  },
  {
   "cell_type": "code",
   "execution_count": 73,
   "metadata": {},
   "outputs": [
    {
     "data": {
      "text/html": [
       "<h2>Output</h2><table><tr><th>id</th><th>value</th></tr><tr><td>0</td><td>D:\\Documents\\GitHub Repos\\geospatial_programming_assignments\\Assignment 5\\Assignment5\\Assignment5.gdb\\bufferOverlap</td></tr><tr><td>1</td><td></td></tr></table><h2>Messages</h2>Start Time: Wednesday, April 14, 2021 7:02:37 PM<br/>Succeeded at Wednesday, April 14, 2021 7:02:46 PM (Elapsed Time: 8.75 seconds)<br/><style>.rendered_html td, .rendered_html th {text-align: left;}.rendered_html tbody {border: 1px solid black;}</style>"
      ],
      "text/plain": [
       "<Result 'D:\\\\Documents\\\\GitHub Repos\\\\geospatial_programming_assignments\\\\Assignment 5\\\\Assignment5\\\\Assignment5.gdb\\\\bufferOverlap'>"
      ]
     },
     "execution_count": 73,
     "metadata": {},
     "output_type": "execute_result"
    }
   ],
   "source": [
    "outCount = 'bufferOverlap'\n",
    "inputList = [outBuffer, fcPoint]\n",
    "\n",
    "arcpy.analysis.SummarizeNearby(fcPoint, fcPoint, outCount, 'STRAIGHT_LINE', distance, distanceUnit)\n",
    "\n"
   ]
  },
  {
   "cell_type": "markdown",
   "metadata": {
    "heading_collapsed": true
   },
   "source": [
    "#### Poop"
   ]
  },
  {
   "cell_type": "code",
   "execution_count": 40,
   "metadata": {
    "hidden": true
   },
   "outputs": [
    {
     "data": {
      "text/html": [
       "<h2>Output</h2>D:\\Documents\\GitHub Repos\\geospatial_programming_assignments\\Assignment 5\\Assignment5\\Assignment5.gdb\\spatialJoin<h2>Messages</h2>Start Time: Wednesday, April 14, 2021 6:26:05 PM<br/>Succeeded at Wednesday, April 14, 2021 6:26:07 PM (Elapsed Time: 2.18 seconds)<br/><style>.rendered_html td, .rendered_html th {text-align: left;}.rendered_html tbody {border: 1px solid black;}</style>"
      ],
      "text/plain": [
       "<Result 'D:\\\\Documents\\\\GitHub Repos\\\\geospatial_programming_assignments\\\\Assignment 5\\\\Assignment5\\\\Assignment5.gdb\\\\spatialJoin'>"
      ]
     },
     "execution_count": 40,
     "metadata": {},
     "output_type": "execute_result"
    }
   ],
   "source": [
    "## spatial join to acquire all within distances\n",
    "arcpy.analysis.SpatialJoin(fcPoint, fcPoint, outFc, 'JOIN_ONE_TO_MANY', '#', '#', 'WITHIN_A_DISTANCE_GEODESIC', distanceCombined)"
   ]
  },
  {
   "cell_type": "code",
   "execution_count": 44,
   "metadata": {
    "hidden": true
   },
   "outputs": [
    {
     "data": {
      "text/html": [
       "<h2>Output</h2>D:\\Documents\\GitHub Repos\\geospatial_programming_assignments\\Assignment 5\\Assignment5\\Assignment5.gdb\\countSummary<h2>Messages</h2>Start Time: Wednesday, April 14, 2021 6:27:30 PM<br/>Succeeded at Wednesday, April 14, 2021 6:27:31 PM (Elapsed Time: 0.38 seconds)<br/><style>.rendered_html td, .rendered_html th {text-align: left;}.rendered_html tbody {border: 1px solid black;}</style>"
      ],
      "text/plain": [
       "<Result 'D:\\\\Documents\\\\GitHub Repos\\\\geospatial_programming_assignments\\\\Assignment 5\\\\Assignment5\\\\Assignment5.gdb\\\\countSummary'>"
      ]
     },
     "execution_count": 44,
     "metadata": {},
     "output_type": "execute_result"
    }
   ],
   "source": [
    "outSummary = 'countSummary'\n",
    "arcpy.analysis.Statistics(outFc, outSummary, [['ObjectID', 'Count']], 'ObjectID')"
   ]
  },
  {
   "cell_type": "code",
   "execution_count": null,
   "metadata": {
    "hidden": true
   },
   "outputs": [],
   "source": [
    "## join back to initial table\n",
    "arcpy.management.AddJoin(fcPoint, ObjectID)"
   ]
  },
  {
   "cell_type": "markdown",
   "metadata": {},
   "source": [
    "# Closer "
   ]
  },
  {
   "cell_type": "code",
   "execution_count": null,
   "metadata": {},
   "outputs": [],
   "source": [
    "#\n",
    "#\n",
    "#\n",
    "#\n",
    "#\n",
    "#\n",
    "#\n",
    "#\n",
    "#\n",
    "#\n",
    "#\n",
    "#\n",
    "#\n",
    "#\n",
    "#\n",
    "#\n",
    "#\n",
    "#\n",
    "#\n",
    "#\n",
    "#\n",
    "#\n",
    "#\n",
    "#"
   ]
  }
 ],
 "metadata": {
  "kernelspec": {
   "display_name": "ArcGISPro",
   "language": "Python",
   "name": "python3"
  },
  "language_info": {
   "file_extension": ".py",
   "name": "python",
   "version": "3"
  }
 },
 "nbformat": 4,
 "nbformat_minor": 2
}

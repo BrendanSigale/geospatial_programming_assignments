{
 "cells": [
  {
   "cell_type": "code",
   "execution_count": 1,
   "metadata": {},
   "outputs": [],
   "source": [
    "import arcpy\n",
    "arcpy.env.workspace = ''"
   ]
  },
  {
   "cell_type": "code",
   "execution_count": null,
   "metadata": {},
   "outputs": [],
   "source": [
    "###################################################################### \n",
    "# Problem 1 (30 Points)\n",
    "#\n",
    "# Given a polygon feature class in a geodatabase, a count attribute of the feature class(e.g., population, disease count):\n",
    "# this function calculates and appends a new density column to the input feature class in a geodatabase.\n",
    "\n",
    "# Given any polygon feature class in the geodatabase and a count variable:\n",
    "# - Calculate the area of each polygon in square miles and append to a new column\n",
    "# - Create a field (e.g., density_sqm) and calculate the density of the selected count variable\n",
    "#   using the area of each polygon and its count variable(e.g., population) \n",
    "# \n",
    "# 1- Check whether the input variables are correct(e.g., the shape type, attribute name)\n",
    "# 2- Make sure overwrite is enabled if the field name already exists.\n",
    "# 3- Identify the input coordinate systems unit of measurement (e.g., meters, feet) for an accurate area calculation and conversion\n",
    "# 4- Give a warning message if the projection is a geographic projection(e.g., WGS84, NAD83).\n",
    "#    Remember that area calculations are not accurate in geographic coordinate systems. \n",
    "# \n",
    "###################################################################### \n",
    "def calculateDensity(fcpolygon, attribute,geodatabase = \"assignment2.gdb\"):\n",
    "    pass"
   ]
  },
  {
   "cell_type": "code",
   "execution_count": null,
   "metadata": {},
   "outputs": [],
   "source": [
    "###################################################################### \n",
    "# Problem 2 (40 Points)\n",
    "# \n",
    "# Given a line feature class (e.g.,river_network.shp) and a polygon feature class (e.g.,states.shp) in a geodatabase, \n",
    "# id or name field that could uniquely identify a feature in the polygon feature class\n",
    "# and the value of the id field to select a polygon (e.g., Iowa) for using as a clip feature:\n",
    "# this function clips the linear feature class by the selected polygon boundary,\n",
    "# and then calculates and returns the total length of the line features (e.g., rivers) in miles for the selected polygon.\n",
    "# \n",
    "# 1- Check whether the input variables are correct (e.g., the shape types and the name or id of the selected polygon)\n",
    "# 2- Transform the projection of one to other if the line and polygon shapefiles have different projections\n",
    "# 3- Identify the input coordinate systems unit of measurement (e.g., meters, feet) for an accurate distance calculation and conversion\n",
    "#        \n",
    "###################################################################### \n",
    "def estimateTotalLineLengthInPolygons(fcLine, fcClipPolygon, polygonIDFieldName, clipPolygonID, geodatabase = \"assignment2.gdb\"):\n",
    "    pass"
   ]
  },
  {
   "cell_type": "code",
   "execution_count": null,
   "metadata": {},
   "outputs": [],
   "source": [
    "######################################################################\n",
    "# Problem 3 (30 points)\n",
    "# \n",
    "# Given an input point feature class, (i.e., eu_cities.shp) and a distance threshold and unit:\n",
    "# Calculate the number of points within the distance threshold from each point (e.g., city),\n",
    "# and append the count to a new field (attribute).\n",
    "#\n",
    "# 1- Identify the input coordinate systems unit of measurement (e.g., meters, feet, degrees) for an accurate distance calculation and conversion\n",
    "# 2- If the coordinate system is geographic (latitude and longitude degrees) then calculate bearing (great circle) distance\n",
    "#\n",
    "######################################################################\n",
    "def countObservationsWithinDistance(fcPoint, distance, distanceUnit, geodatabase = \"assignment2.gdb\"):\n",
    "    pass"
   ]
  }
 ],
 "metadata": {
  "kernelspec": {
   "display_name": "ArcGISPro",
   "language": "Python",
   "name": "python3"
  },
  "language_info": {
   "file_extension": ".py",
   "name": "python",
   "version": "3"
  }
 },
 "nbformat": 4,
 "nbformat_minor": 2
}

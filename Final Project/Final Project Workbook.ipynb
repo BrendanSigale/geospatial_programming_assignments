{
 "cells": [
  {
   "cell_type": "code",
   "execution_count": null,
   "metadata": {},
   "outputs": [],
   "source": [
    "import arcpy\n",
    "import os\n",
    "arcpy.env.overwriteOutput = True"
   ]
  },
  {
   "cell_type": "code",
   "execution_count": null,
   "metadata": {},
   "outputs": [],
   "source": [
    "svi = r'D:\\Documents\\GitHub Repos\\geospatial_programming_assignments\\Final Project\\Final Project\\data\\svi/svi_tx.shp'\n",
    "evac = r'D:\\Documents\\GitHub Repos\\geospatial_programming_assignments\\Final Project\\Final Project\\data\\evac_routes/TxDOT_Evacuation_Routes.shp'\n",
    "roads = r'D:\\Documents\\GitHub Repos\\geospatial_programming_assignments\\Final Project\\Final Project\\data\\roadways/TxDOT_Roadways.shp'\n",
    "hwm = r'D:\\Documents\\GitHub Repos\\geospatial_programming_assignments\\Final Project\\Final Project\\data\\high_water_marks\\USGS_Harvey_HWM_Peaks/USGS_Harvey_HWM_Peaks.shp'\n",
    "damage = r'D:\\Documents\\GitHub Repos\\geospatial_programming_assignments\\Final Project\\Final Project\\data\\building_damage/building_damage.shp'"
   ]
  },
  {
   "cell_type": "code",
   "execution_count": null,
   "metadata": {},
   "outputs": [],
   "source": [
    "# roads = 'TxDOT_Roadways'\n",
    "# evac = 'TxDOT_Evacuation_Routes'\n",
    "# svi = 'svi_tx'\n",
    "# hwm = 'USGS_Harvey_HWM_Peaks'\n",
    "# damage = 'building_damage'\n",
    "roads_clip = 'roads_clipped'\n",
    "svi_cent = 'svi_centroids'\n",
    "intersect = 'intersection_points'\n",
    "clipped_svi_hwm = 'svi_clipped_hwm'\n",
    "clipped_svi_damage = 'svi_clipped_damage'\n",
    "hwm_clip = 'hwm_clipped'\n",
    "damage_clip = 'damage_clipped'"
   ]
  },
  {
   "cell_type": "code",
   "execution_count": null,
   "metadata": {},
   "outputs": [],
   "source": [
    "## Check input feature class spatial reference\n",
    "roads_desc = arcpy.Describe(roads)\n",
    "roads_desc_name = roads_desc.spatialReference.name\n",
    "svi_desc = arcpy.Describe(svi)\n",
    "svi_desc_name = svi_desc.spatialReference.name\n",
    "evac_desc = arcpy.Describe(evac)\n",
    "evac_desc_name = evac_desc.spatialReference.name\n",
    "hwm_desc = arcpy.Describe(hwm)\n",
    "hwm_desc_name = hwm_desc.spatialReference.name\n",
    "damage_desc = arcpy.Describe(damage)\n",
    "damage_desc_name = damage_desc.spatialReference.name"
   ]
  },
  {
   "cell_type": "code",
   "execution_count": null,
   "metadata": {},
   "outputs": [],
   "source": [
    "## Ensure projections all match, using roads as the defining piece. Will convert SVI to WGS-84 at the end for\n",
    "## for compatability with Geographic Visualization project. \n",
    "\n",
    "if roads_desc_name != svi_desc_name:\n",
    "    print(\"Roads and Evac do not match, updating svi in svi_reprojected to match roads: \" + roads_desc_name)\n",
    "    arcpy.management.Project(svi, 'svi_reprojected', roads_desc.spatialReference)\n",
    "    inFacilities = arcpy.env.workspace + '/inFacilities_reprojected'\n",
    "    print(\"Projection updated, both svi and roads are projected in: \" + roads_desc_name)\n",
    "else:\n",
    "    print(\"SVI feature class spatial reference matches.\")\n",
    "    \n",
    "if roads_desc_name != evac_desc_name:\n",
    "    print(\"Roads and Evac do not match, updating evac in evac_reprojected to match roads: \" + roads_desc_name)\n",
    "    arcpy.management.Project(evac, 'evac_reprojected', roads_desc.spatialReference)\n",
    "    evac = arcpy.env.workspace + '/evac_reprojected'\n",
    "    print(\"Projection updated, both evac and roads are projected in: \" + roads_desc_name)\n",
    "else:\n",
    "    print(\"Evac feature class spatial reference matches.\")\n",
    "    \n",
    "if roads_desc_name != hwm_desc_name:\n",
    "    print(\"Roads and HWM do not match, updating HWM in hwm_reprojected to match roads: \" + roads_desc_name)\n",
    "    arcpy.management.Project(hwm, 'hwm_reprojected', roads_desc.spatialReference)\n",
    "    hwm = arcpy.env.workspace + '/hwm_reprojected'\n",
    "    print(\"Projection updated, both hwm and roads are projected in: \" + roads_desc_name)\n",
    "else:\n",
    "    print(\"High Water Marks feature class spatial reference matches.\")\n",
    "    \n",
    "if roads_desc_name != damage_desc_name:\n",
    "    print(\"Roads and damage do not match, updating damage in damage_reprojected to match roads: \" + roads_desc_name)\n",
    "    arcpy.management.Project(damage, 'damage_reprojected', roads_desc.spatialReference)\n",
    "    hwm = arcpy.env.workspace + '/damage_reprojected'\n",
    "    print(\"Projection updated, both damage and roads are projected in: \" + roads_desc_name)\n",
    "else:\n",
    "    print(\"Damage feature class spatial reference matches.\")"
   ]
  },
  {
   "cell_type": "code",
   "execution_count": null,
   "metadata": {},
   "outputs": [],
   "source": [
    "## clip high water marks to be within the svi region (Must be done first, as the svi is clipped after using these points)\n",
    "arcpy.analysis.Clip(hwm, svi, hwm_clip)"
   ]
  },
  {
   "cell_type": "code",
   "execution_count": null,
   "metadata": {},
   "outputs": [],
   "source": [
    "## spatial join to clip svi down to hwm areas\n",
    "arcpy.analysis.SpatialJoin(svi, hwm_clip, clipped_svi_hwm, join_type = 'KEEP_COMMON',\n",
    "                           match_option = 'INTERSECT')"
   ]
  },
  {
   "cell_type": "code",
   "execution_count": null,
   "metadata": {},
   "outputs": [],
   "source": [
    "## Convert census block groups to centroids for point to point drive time analysis.\n",
    "arcpy.management.FeatureToPoint(clipped_svi_hwm, svi_cent, \"CENTROID\")"
   ]
  },
  {
   "cell_type": "code",
   "execution_count": null,
   "metadata": {},
   "outputs": [],
   "source": [
    "## intersect analysis between roads and evacuation routes\n",
    "intersect_features = [roads, evac]\n",
    "arcpy.analysis.Intersect(intersect_features, intersect, 'ONLY_FID', output_type = 'POINT')"
   ]
  },
  {
   "cell_type": "markdown",
   "metadata": {},
   "source": [
    "## Near "
   ]
  },
  {
   "cell_type": "code",
   "execution_count": null,
   "metadata": {},
   "outputs": [],
   "source": [
    "arcpy.analysis.Near(svi_cent, intersect, method = \"GEODESIC\")"
   ]
  },
  {
   "cell_type": "markdown",
   "metadata": {},
   "source": [
    "## Statistics"
   ]
  },
  {
   "cell_type": "code",
   "execution_count": null,
   "metadata": {},
   "outputs": [],
   "source": [
    "hwm_summary = 'hwm_summary'\n",
    "damage_summary = 'damage_summary'"
   ]
  },
  {
   "cell_type": "code",
   "execution_count": null,
   "metadata": {},
   "outputs": [],
   "source": [
    "arcpy.analysis.SummarizeWithin(clipped_svi_hwm, hwm_clip, hwm_summary, 'KEEP_ALL', [['height_abo', 'MEAN']])"
   ]
  },
  {
   "cell_type": "markdown",
   "metadata": {},
   "source": [
    "## Join"
   ]
  },
  {
   "cell_type": "code",
   "execution_count": null,
   "metadata": {},
   "outputs": [],
   "source": [
    "joinField = 'FIPS'"
   ]
  },
  {
   "cell_type": "code",
   "execution_count": null,
   "metadata": {},
   "outputs": [],
   "source": [
    "arcpy.management.AddJoin(hwm_summary, joinField, svi_cent, joinField)"
   ]
  },
  {
   "cell_type": "markdown",
   "metadata": {},
   "source": [
    "## New Table with New Fields "
   ]
  },
  {
   "cell_type": "code",
   "execution_count": null,
   "metadata": {},
   "outputs": [],
   "source": [
    "in_fc = 'hwm_summary'\n",
    "out_path = r'D:\\Documents\\GitHub Repos\\geospatial_programming_assignments\\Final Project\\Final Project\\outputs'\n",
    "out_fc = 'summary_output'\n",
    "keep_fields = ['FIPS', 'EP_POV', 'EP_UNEMP', 'EP_MUNIT', 'EP_MOBILE', 'EP_NOVEH', 'EP_UNINSUR']"
   ]
  },
  {
   "cell_type": "code",
   "execution_count": null,
   "metadata": {},
   "outputs": [],
   "source": [
    "## achieved by manually running the feature class to feature class conversion tool and copying the Field Map output from the 'results' tab. Must be performed again if desired fields or table names are different.\n",
    "fieldMappings = \"\"\"FIPS \"FIPS\" true true false 254 Text 0 0,First,#,hwm_summary,hwm_summary.FIPS,0,254;EP_POV \"EP_POV\" true true false 8 Double 0 0,First,#,hwm_summary,hwm_summary.EP_POV,-1,-1;EP_UNEMP \"EP_UNEMP\" true true false 8 Double 0 0,First,#,hwm_summary,hwm_summary.EP_UNEMP,-1,-1;EP_MUNIT \"EP_MUNIT\" true true false 8 Double 0 0,First,#,hwm_summary,hwm_summary.EP_MUNIT,-1,-1;EP_MOBILE \"EP_MOBILE\" true true false 8 Double 0 0,First,#,hwm_summary,hwm_summary.EP_MOBILE,-1,-1;EP_NOVEH \"EP_NOVEH\" true true false 8 Double 0 0,First,#,hwm_summary,hwm_summary.EP_NOVEH,-1,-1;RPL_THEMES \"RPL_THEMES\" true true false 8 Double 0 0,First,#,hwm_summary,hwm_summary.RPL_THEMES,-1,-1;E_UNINSUR \"E_UNINSUR\" true true false 8 Double 0 0,First,#,hwm_summary,hwm_summary.E_UNINSUR,-1,-1;MEAN_height_abo \"Average height_abo\" true true false 8 Double 0 0,First,#,hwm_summary,hwm_summary.MEAN_height_abo,-1,-1;NEAR_DIST \"NEAR_DIST\" true true false 8 Double 0 0,First,#,hwm_summary,svi_centroids.NEAR_DIST,-1,-1\"\"\""
   ]
  },
  {
   "cell_type": "code",
   "execution_count": null,
   "metadata": {},
   "outputs": [],
   "source": [
    "arcpy.FeatureClassToFeatureClass_conversion(in_fc, out_path, out_fc, field_mapping = fieldMappings)"
   ]
  },
  {
   "cell_type": "code",
   "execution_count": null,
   "metadata": {},
   "outputs": [],
   "source": [
    "output_folder = r'D:\\Documents\\GitHub Repos\\geospatial_programming_assignments\\Final Project\\Final Project\\outputs'\n",
    "arcpy.conversion.FeatureClassToShapefile(out_fc, output_folder)"
   ]
  },
  {
   "cell_type": "markdown",
   "metadata": {},
   "source": [
    "## Shit to integrate damage and high water mark points and do a weighted average (not working)"
   ]
  },
  {
   "cell_type": "code",
   "execution_count": null,
   "metadata": {},
   "outputs": [],
   "source": [
    "## clip damage to be within the svi region (Must be done first, as the svi is clipped after using these points)\n",
    "# arcpy.analysis.Clip(damage, svi, damage_clip)"
   ]
  },
  {
   "cell_type": "code",
   "execution_count": null,
   "metadata": {},
   "outputs": [],
   "source": [
    "# ## spatial join to clip svi down to damage areas\n",
    "# arcpy.analysis.SpatialJoin(svi, damage_clip, clipped_svi_damage, join_type = 'KEEP_COMMON',\n",
    "#                            match_option = 'INTERSECT')"
   ]
  },
  {
   "cell_type": "code",
   "execution_count": null,
   "metadata": {},
   "outputs": [],
   "source": [
    "mergeOut = 'merged_svi_areas'"
   ]
  },
  {
   "cell_type": "code",
   "execution_count": null,
   "metadata": {},
   "outputs": [],
   "source": [
    "# arcpy.management.Merge([clipped_svi_hwm, clipped_svi_damage], mergeOut)"
   ]
  },
  {
   "cell_type": "code",
   "execution_count": null,
   "metadata": {},
   "outputs": [],
   "source": [
    "# arcpy.management.DeleteIdentical(mergeOut, 'FIPS')"
   ]
  },
  {
   "cell_type": "code",
   "execution_count": null,
   "metadata": {},
   "outputs": [],
   "source": [
    "# arcpy.analysis.SummarizeWithin(mergeOut, damage_clip, damage_summary, 'KEEP_ALL', [['IN_DEPTH', 'MEAN']])"
   ]
  },
  {
   "cell_type": "code",
   "execution_count": null,
   "metadata": {},
   "outputs": [],
   "source": [
    "# arcpy.management.AddJoin(hwm_summary, joinField, damage_summary, joinField)"
   ]
  },
  {
   "cell_type": "code",
   "execution_count": null,
   "metadata": {},
   "outputs": [],
   "source": [
    "# newField = 'wa_depth'"
   ]
  },
  {
   "cell_type": "code",
   "execution_count": null,
   "metadata": {},
   "outputs": [],
   "source": [
    "## Calculate weighted average innundation depth\n",
    "# arcpy.management.AddField(hwm_summary, newField, 'DOUBLE')"
   ]
  },
  {
   "cell_type": "code",
   "execution_count": null,
   "metadata": {},
   "outputs": [],
   "source": [
    "# expression = \"((!damage_summary.Point_Count! * !damage_summary.MEAN_IN_DEPTH!) + (!hwm_summary.Point_Count! * !MEAN_height_abo!)) / (!damage_summary.Point_Count! + !hwm_summary.Point_Count!)\"\n",
    "# expression"
   ]
  },
  {
   "cell_type": "code",
   "execution_count": null,
   "metadata": {},
   "outputs": [],
   "source": [
    "# arcpy.CalculateField_management(hwm_summary, newField, expression, \"PYTHON3\")"
   ]
  },
  {
   "cell_type": "code",
   "execution_count": null,
   "metadata": {},
   "outputs": [],
   "source": [
    "# finalTable = 'final_table'\n",
    "# arcpy.management.CopyFeatures(hwm_summary, finalTable)"
   ]
  },
  {
   "cell_type": "markdown",
   "metadata": {},
   "source": [
    "## Network Bullshit"
   ]
  },
  {
   "cell_type": "code",
   "execution_count": null,
   "metadata": {},
   "outputs": [],
   "source": [
    "arcpy.CheckOutExtension(\"network\")"
   ]
  },
  {
   "cell_type": "code",
   "execution_count": null,
   "metadata": {},
   "outputs": [],
   "source": [
    "## Create featuredataset for roads network to calculate driving distance.\n",
    "arcpy.CreateFeatureDataset_management(arcpy.env.workspace, 'featuredataset', roads_desc.spatialReference)"
   ]
  },
  {
   "cell_type": "code",
   "execution_count": null,
   "metadata": {},
   "outputs": [],
   "source": [
    "## copy cleaned features into featuredataset\n",
    "arcpy.CopyFeatures_management(roads_clip, 'featuredataset/roads_network')\n",
    "arcpy.CopyFeatures_management(svi_cent, 'featuredataset/svi_centroids_network')\n",
    "arcpy.CopyFeatures_management(intersect, 'featuredataset/intersect_network')"
   ]
  },
  {
   "cell_type": "code",
   "execution_count": null,
   "metadata": {},
   "outputs": [],
   "source": [
    "# ## create roads network\n",
    "# arcpy.na.CreateNetworkDataset('featuredataset', 'roads_ND', ['roads'])\n",
    "arcpy.BuildNetwork_na('featuredataset/roads_ND')"
   ]
  },
  {
   "cell_type": "code",
   "execution_count": null,
   "metadata": {},
   "outputs": [],
   "source": [
    "travel_modes = arcpy.na.GetTravelModes('featuredataset/roads_ND')\n",
    "for travel_mode_name in travel_modes:\n",
    "    travel_mode = travel_modes[travel_mode_name]\n",
    "    print(travel_mode_name)\n",
    "    print(\"Impedance:\", travel_mode.impedance)\n",
    "    print(\"Restrictions:\", \", \".join(travel_mode.restrictions))\n",
    "    print(\"\")"
   ]
  },
  {
   "cell_type": "code",
   "execution_count": null,
   "metadata": {},
   "outputs": [],
   "source": [
    "travel_modes"
   ]
  },
  {
   "cell_type": "code",
   "execution_count": null,
   "metadata": {},
   "outputs": [],
   "source": [
    "travel_mode = arcpy.na.TravelMode(travel_modes[\"Length\"])"
   ]
  },
  {
   "cell_type": "code",
   "execution_count": null,
   "metadata": {},
   "outputs": [],
   "source": [
    "## network layer variables\n",
    "outRoutes = 'closest_facility_layer'\n",
    "timeOfDay = '8/26/2017 12:00 PM'"
   ]
  },
  {
   "cell_type": "code",
   "execution_count": null,
   "metadata": {},
   "outputs": [],
   "source": [
    "## create closest facility calculation layer\n",
    "result_object = arcpy.na.MakeClosestFacilityAnalysisLayer('roads_ND', outRoutes, \"Driving Time\", 'TO_FACILITIES',\n",
    "                                          time_of_day = timeOfDay, time_zone = 'LOCAL_TIME_AT_LOCATIONS', \n",
    "                                          time_of_day_usage = 'START_TIME', line_shape = 'ALONG_NETWORK')\n",
    "#                                            accumulate_attributes = [\"Meters\", \"Travel Time\"])"
   ]
  },
  {
   "cell_type": "code",
   "execution_count": null,
   "metadata": {},
   "outputs": [],
   "source": [
    "## layer object from the result, allows us to reference the layer\n",
    "layer_object = result_object.getOutput(0)"
   ]
  },
  {
   "cell_type": "code",
   "execution_count": null,
   "metadata": {},
   "outputs": [],
   "source": [
    "#Get the names of all the sublayers within the closest facility layer.\n",
    "sublayer_names = arcpy.na.GetNAClassNames(layer_object)\n",
    "#Stores the layer names that we will use later\n",
    "facilities_layer_name = sublayer_names[\"Facilities\"]\n",
    "incidents_layer_name = sublayer_names[\"Incidents\"]"
   ]
  },
  {
   "cell_type": "code",
   "execution_count": null,
   "metadata": {},
   "outputs": [],
   "source": [
    "#Load the intersections as Facilities using the default field mappings and\n",
    "#search tolerance\n",
    "arcpy.na.AddLocations(layer_object, facilities_layer_name,\n",
    "                        'featuredataset/intersect', \"\", \"500000 METERS\")"
   ]
  },
  {
   "cell_type": "code",
   "execution_count": null,
   "metadata": {},
   "outputs": [],
   "source": [
    "#Load the centroids as Incidents. Map the Name property from the NOM field\n",
    "#using field mappings\n",
    "field_mappings = arcpy.na.NAClassFieldMappings(layer_object,\n",
    "                                                incidents_layer_name)\n",
    "field_mappings[\"Name\"].mappedFieldName = \"NOM\"\n",
    "arcpy.na.AddLocations(layer_object, incidents_layer_name, 'featuredataset/svi_cents',\n",
    "                      field_mappings, \"\")"
   ]
  },
  {
   "cell_type": "code",
   "execution_count": null,
   "metadata": {},
   "outputs": [],
   "source": [
    "## solve - find the quickest route from census block group centroids to highway and road intersections (resresent on ramps)\n",
    "arcpy.na.Solve(layer_object)"
   ]
  }
 ],
 "metadata": {
  "kernelspec": {
   "display_name": "ArcGISPro",
   "language": "Python",
   "name": "python3"
  },
  "language_info": {
   "file_extension": ".py",
   "name": "python",
   "version": "3"
  }
 },
 "nbformat": 4,
 "nbformat_minor": 2
}

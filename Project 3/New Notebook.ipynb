{
 "cells": [
  {
   "cell_type": "code",
   "execution_count": 1,
   "metadata": {},
   "outputs": [],
   "source": [
    "import arcpy\n",
    "arcpy.env.workspace = r'E:\\My Drive\\School\\College\\06 Grad Full\\Semester 2\\Geospatial Programming\\Assignment 3/hw3.gdb'\n",
    "arcpy.env.overwriteOutput = True"
   ]
  },
  {
   "cell_type": "code",
   "execution_count": 2,
   "metadata": {},
   "outputs": [
    {
     "name": "stdout",
     "output_type": "stream",
     "text": [
      "bike_routes\n",
      "facilities\n",
      "hospitals\n",
      "parks\n",
      "zip_areas\n",
      "block_groups\n",
      "thiessen_hosp\n",
      "facilities_in_block_group\n"
     ]
    }
   ],
   "source": [
    "fcList = arcpy.ListFeatureClasses()\n",
    "for fc in fcList:\n",
    "    print(fc)"
   ]
  },
  {
   "cell_type": "code",
   "execution_count": 3,
   "metadata": {},
   "outputs": [],
   "source": [
    "block_groups = \"block_groups\"\n",
    "facilities = 'facilities'\n",
    "outfc = 'facilities_in_block_group'\n",
    "\n",
    "# arcpy.SpatialJoin_analysis(block_groups, facilities, outfc, '#', '#', '#', 'CONTAINS')"
   ]
  },
  {
   "cell_type": "code",
   "execution_count": 4,
   "metadata": {},
   "outputs": [],
   "source": [
    "hospitalFc = 'hospitals'\n",
    "thiessen_hospital = 'thiessen_hosp'\n",
    "# arcpy.CreateThiessenPolygons_analysis(hospitalFc, thiessen_hospital, 'ALL')"
   ]
  },
  {
   "cell_type": "code",
   "execution_count": 5,
   "metadata": {},
   "outputs": [],
   "source": [
    "# switch to assignment 6 dataset for IDW and kriging\n",
    "folder = r'E:\\My Drive\\School\\College\\06 Grad Full\\Semester 2\\Geospatial Programming\\Assignment 6'\n",
    "arcpy.env.workspace = folder"
   ]
  },
  {
   "cell_type": "code",
   "execution_count": 12,
   "metadata": {},
   "outputs": [
    {
     "data": {
      "text/html": [
       "<h2>Output</h2>E:\\My Drive\\School\\College\\06 Grad Full\\Semester 2\\Geospatial Programming\\Assignment 6\\interpolation.gdb<h2>Messages</h2>Start Time: Wednesday, March 31, 2021 1:20:06 PM<br/>Succeeded at Wednesday, March 31, 2021 1:20:07 PM (Elapsed Time: 1.07 seconds)<br/><style>.rendered_html td, .rendered_html th {text-align: left;}.rendered_html tbody {border: 1px solid black;}</style>"
      ],
      "text/plain": [
       "<Result 'E:\\\\My Drive\\\\School\\\\College\\\\06 Grad Full\\\\Semester 2\\\\Geospatial Programming\\\\Assignment 6\\\\interpolation.gdb'>"
      ]
     },
     "execution_count": 12,
     "metadata": {},
     "output_type": "execute_result"
    }
   ],
   "source": [
    "arcpy.CreateFileGDB_management(arcpy.env.workspace, 'interpolation.gdb')"
   ]
  },
  {
   "cell_type": "code",
   "execution_count": 6,
   "metadata": {},
   "outputs": [],
   "source": [
    "arcpy.env.workspace = 'interpolation.gdb'"
   ]
  },
  {
   "cell_type": "code",
   "execution_count": 15,
   "metadata": {},
   "outputs": [
    {
     "data": {
      "text/html": [
       "<h2>Output</h2>E:\\My Drive\\School\\College\\06 Grad Full\\Semester 2\\Geospatial Programming\\Assignment 6\\interpolation.gdb\\yearly<h2>Messages</h2>Start Time: Wednesday, March 31, 2021 1:20:15 PM<br/>Succeeded at Wednesday, March 31, 2021 1:20:22 PM (Elapsed Time: 7.25 seconds)<br/><style>.rendered_html td, .rendered_html th {text-align: left;}.rendered_html tbody {border: 1px solid black;}</style>"
      ],
      "text/plain": [
       "<Result 'E:\\\\My Drive\\\\School\\\\College\\\\06 Grad Full\\\\Semester 2\\\\Geospatial Programming\\\\Assignment 6\\\\interpolation.gdb\\\\yearly'>"
      ]
     },
     "execution_count": 15,
     "metadata": {},
     "output_type": "execute_result"
    }
   ],
   "source": [
    "## convert table with yearly numbers to ArcGIS friendly table (except IA0000, that's the state overall)\n",
    "inTable = folder + \"/yearly.csv\"\n",
    "outTable = 'yearly'\n",
    "expression = arcpy.AddFieldDelimiters(arcpy.env.workspace, \"stationID\") + \" <> 'IA0000'\"\n",
    "\n",
    "arcpy.TableToTable_conversion(inTable, arcpy.env.workspace, outTable, expression)"
   ]
  },
  {
   "cell_type": "code",
   "execution_count": 16,
   "metadata": {},
   "outputs": [],
   "source": [
    "## check is spatial analyst extension is available and then import it\n",
    "try:\n",
    "    if arcpy.CheckExtension(\"Spatial\") == 'Available':\n",
    "        arcpy.CheckOutExtension(\"Spatial\")\n",
    "    else:\n",
    "        raise LicenseError\n",
    "except LicenseError:\n",
    "    print(\"Spatial Analyst License is not available\")"
   ]
  },
  {
   "cell_type": "code",
   "execution_count": 14,
   "metadata": {},
   "outputs": [],
   "source": [
    "from arcpy.sa import *"
   ]
  },
  {
   "cell_type": "code",
   "execution_count": 9,
   "metadata": {},
   "outputs": [],
   "source": [
    "## geocode using lat long\n",
    "yearly_points = 'yearly_points'\n",
    "# arcpy.management.XYTableToPoint(outTable, outFeatureClass, 'Longitude', 'Latitude')"
   ]
  },
  {
   "cell_type": "code",
   "execution_count": 10,
   "metadata": {},
   "outputs": [],
   "source": [
    "## create IDW for each year\n",
    "for year in range(2009, 2019):\n",
    "    attribute = \"F\" + str(year) + \"_PREC\"\n",
    "    attribute_IDW = Idw(yearly_points, attribute)\n",
    "    attribute_IDW.save(attribute)"
   ]
  },
  {
   "cell_type": "code",
   "execution_count": 10,
   "metadata": {},
   "outputs": [
    {
     "name": "stdout",
     "output_type": "stream",
     "text": [
      "23.383333332999996 12.866666666000015\n",
      "0.012866666666000014\n"
     ]
    }
   ],
   "source": [
    "descYearly = arcpy.Describe(yearly_points)\n",
    "print(descYearly.extent.width, descYearly.extent.height)\n",
    "width = descYearly.extent.width\n",
    "height = descYearly.extent.height\n",
    "\n",
    "cellSize = min(width, height) / 1000\n",
    "print(cellSize)"
   ]
  },
  {
   "cell_type": "code",
   "execution_count": 10,
   "metadata": {},
   "outputs": [],
   "source": [
    "## create kriging for each year\n",
    "field = \"F2018_PREC\"\n",
    "\n",
    "# outKriging = Kriging(yearly_points, field, '#', cellSize)\n",
    "# outKriging.save(\"F2018K\")"
   ]
  },
  {
   "cell_type": "code",
   "execution_count": 11,
   "metadata": {},
   "outputs": [],
   "source": [
    "## import Iowa counties\n",
    "iowaCounties = folder + \"/weather.gdb/iowa_counties\"\n",
    "# arcpy.FeatureClassToFeatureClass_conversion(iowaCounties, arcpy.env.workspace, \"iowa_counties\")"
   ]
  },
  {
   "cell_type": "code",
   "execution_count": 12,
   "metadata": {},
   "outputs": [
    {
     "data": {
      "text/plain": [
       "'-96.64070921375918 40.37194662123966 -90.14279675826373 43.501457447103576'"
      ]
     },
     "execution_count": 12,
     "metadata": {},
     "output_type": "execute_result"
    }
   ],
   "source": [
    "## describe iowa counties to get extent for clipping\n",
    "descIowa = arcpy.Describe(\"iowa_counties\")\n",
    "rectangle = str(descIowa.extent.XMin) + \" \" + str(descIowa.extent.YMin) + \" \" + str(descIowa.extent.XMax) + \" \" + str(descIowa.extent.YMax)\n",
    "rectangle"
   ]
  },
  {
   "cell_type": "code",
   "execution_count": 23,
   "metadata": {},
   "outputs": [
    {
     "data": {
      "text/html": [
       "<h2>Output</h2>E:\\My Drive\\School\\College\\06 Grad Full\\Semester 2\\Geospatial Programming\\Assignment 6\\interpolation.gdb\\F2018K_clipped<h2>Messages</h2>Start Time: Wednesday, April 7, 2021 10:55:14 AM<br/>Building Pyramids...<br/>Succeeded at Wednesday, April 7, 2021 10:57:11 AM (Elapsed Time: 1 minutes 56 seconds)<br/><style>.rendered_html td, .rendered_html th {text-align: left;}.rendered_html tbody {border: 1px solid black;}</style>"
      ],
      "text/plain": [
       "<Result 'E:\\\\My Drive\\\\School\\\\College\\\\06 Grad Full\\\\Semester 2\\\\Geospatial Programming\\\\Assignment 6\\\\interpolation.gdb\\\\F2018K_clipped'>"
      ]
     },
     "execution_count": 23,
     "metadata": {},
     "output_type": "execute_result"
    }
   ],
   "source": [
    "## clipping kriging into iowa counties\n",
    "arcpy.Clip_management('F2018K', rectangle, 'F2018K_clipped', 'iowa_counties', '#', \n",
    "                      'ClippingGeometry', 'MAINTAIN_EXTENT')"
   ]
  },
  {
   "cell_type": "code",
   "execution_count": 15,
   "metadata": {},
   "outputs": [],
   "source": [
    "# convert raster values to integers\n",
    "outInt = Int(\"F2018K_clipped\")\n",
    "# outInt.save(\"F2018KC_Int\")"
   ]
  },
  {
   "cell_type": "code",
   "execution_count": 16,
   "metadata": {},
   "outputs": [
    {
     "name": "stdout",
     "output_type": "stream",
     "text": [
      "30\n",
      "67\n"
     ]
    }
   ],
   "source": [
    "min_F2018 = int(arcpy.management.GetRasterProperties(outInt, \"MINIMUM\").getOutput(0))\n",
    "max_F2018 = int(arcpy.management.GetRasterProperties(outInt, \"MAXIMUM\").getOutput(0))\n",
    "\n",
    "print(min_F2018)\n",
    "print(max_F2018)"
   ]
  },
  {
   "cell_type": "code",
   "execution_count": 17,
   "metadata": {},
   "outputs": [
    {
     "data": {
      "text/plain": [
       "7.4"
      ]
     },
     "execution_count": 17,
     "metadata": {},
     "output_type": "execute_result"
    }
   ],
   "source": [
    "numofClasses = 5\n",
    "eqInterval = (max_F2018 - min_F2018) / numofClasses\n",
    "eqInterval"
   ]
  },
  {
   "cell_type": "code",
   "execution_count": 19,
   "metadata": {},
   "outputs": [
    {
     "data": {
      "text/plain": [
       "[[30, 37.4, 1], [37.4, 44.8, 2], [44.8, 52.199999999999996, 3], [52.199999999999996, 59.599999999999994, 4], [59.599999999999994, 67.0, 5]]"
      ]
     },
     "execution_count": 19,
     "metadata": {},
     "output_type": "execute_result"
    }
   ],
   "source": [
    "myremapRange = []\n",
    "myBreak = min_F2018\n",
    "\n",
    "for i in range(0, numofClasses):\n",
    "    classCode = i + 1\n",
    "    lowerBound = myBreak\n",
    "    upperBound = myBreak + eqInterval\n",
    "    remap = [lowerBound, upperBound, classCode]\n",
    "    myremapRange.append(remap)\n",
    "    myBreak += eqInterval\n",
    "\n",
    "myremapRange"
   ]
  },
  {
   "cell_type": "code",
   "execution_count": 20,
   "metadata": {},
   "outputs": [],
   "source": [
    "outReclassRR = Reclassify(\"F2018KC_Int\", \"Value\", RemapRange(myremapRange), \"NODATA\")\n",
    "outReclassRR.save(\"F2018_CL\")"
   ]
  },
  {
   "cell_type": "code",
   "execution_count": 21,
   "metadata": {},
   "outputs": [
    {
     "data": {
      "text/html": [
       "<h2>Output</h2>E:\\My Drive\\School\\College\\06 Grad Full\\Semester 2\\Geospatial Programming\\Assignment 6\\interpolation.gdb\\F2018_ismc<h2>Messages</h2>Start Time: Monday, April 12, 2021 12:49:24 PM<br/>Succeeded at Monday, April 12, 2021 12:49:43 PM (Elapsed Time: 18.47 seconds)<br/><style>.rendered_html td, .rendered_html th {text-align: left;}.rendered_html tbody {border: 1px solid black;}</style>"
      ],
      "text/plain": [
       "<Result 'E:\\\\My Drive\\\\School\\\\College\\\\06 Grad Full\\\\Semester 2\\\\Geospatial Programming\\\\Assignment 6\\\\interpolation.gdb\\\\F2018_ismc'>"
      ]
     },
     "execution_count": 21,
     "metadata": {},
     "output_type": "execute_result"
    }
   ],
   "source": [
    "arcpy.RasterToPolygon_conversion(\"F2018_CL\", \"F2018_ismc\", \"NO_SIMPLIFY\", \"VALUE\")"
   ]
  },
  {
   "cell_type": "code",
   "execution_count": null,
   "metadata": {},
   "outputs": [],
   "source": [
    "#\n",
    "#\n",
    "#\n",
    "#\n",
    "#\n",
    "#\n",
    "#\n",
    "#\n",
    "#\n",
    "#\n",
    "#\n",
    "#\n",
    "#\n",
    "#\n",
    "#\n",
    "#\n",
    "#\n",
    "#\n",
    "#\n",
    "#\n",
    "#\n",
    "#\n",
    "#\n",
    "#\n",
    "#\n",
    "#\n",
    "#\n",
    "#\n",
    "#\n",
    "#\n",
    "#\n",
    "#\n"
   ]
  }
 ],
 "metadata": {
  "kernelspec": {
   "display_name": "ArcGISPro",
   "language": "Python",
   "name": "python3"
  },
  "language_info": {
   "file_extension": ".py",
   "name": "python",
   "version": "3"
  }
 },
 "nbformat": 4,
 "nbformat_minor": 2
}

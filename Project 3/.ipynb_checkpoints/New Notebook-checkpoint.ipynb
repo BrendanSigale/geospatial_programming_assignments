{
 "cells": [
  {
   "cell_type": "code",
   "execution_count": 8,
   "metadata": {},
   "outputs": [],
   "source": [
    "import arcpy\n",
    "arcpy.env.workspace = r'E:\\My Drive\\School\\College\\06 Grad Full\\Semester 2\\Geospatial Programming\\Assignment 3/hw3.gdb'\n",
    "arcpy.env.overwriteOutput = True"
   ]
  },
  {
   "cell_type": "code",
   "execution_count": 9,
   "metadata": {},
   "outputs": [
    {
     "name": "stdout",
     "output_type": "stream",
     "text": [
      "bike_routes\n",
      "facilities\n",
      "hospitals\n",
      "parks\n",
      "zip_areas\n",
      "block_groups\n"
     ]
    }
   ],
   "source": [
    "fcList = arcpy.ListFeatureClasses()\n",
    "for fc in fcList:\n",
    "    print(fc)"
   ]
  },
  {
   "cell_type": "code",
   "execution_count": 10,
   "metadata": {},
   "outputs": [
    {
     "data": {
      "text/html": [
       "<h2>Output</h2>E:\\My Drive\\School\\College\\06 Grad Full\\Semester 2\\Geospatial Programming\\Assignment 3/hw3.gdb\\facilities_in_block_group<h2>Messages</h2>Start Time: Wednesday, March 24, 2021 1:24:39 PM<br/>Succeeded at Wednesday, March 24, 2021 1:24:44 PM (Elapsed Time: 5.07 seconds)<br/><style>.rendered_html td, .rendered_html th {text-align: left;}.rendered_html tbody {border: 1px solid black;}</style>"
      ],
      "text/plain": [
       "<Result 'E:\\\\My Drive\\\\School\\\\College\\\\06 Grad Full\\\\Semester 2\\\\Geospatial Programming\\\\Assignment 3/hw3.gdb\\\\facilities_in_block_group'>"
      ]
     },
     "execution_count": 10,
     "metadata": {},
     "output_type": "execute_result"
    }
   ],
   "source": [
    "block_groups = \"block_groups\"\n",
    "facilities = 'facilities'\n",
    "outfc = 'facilities_in_block_group'\n",
    "\n",
    "arcpy.SpatialJoin_analysis(block_groups, facilities, outfc, '#', '#', '#', 'CONTAINS')"
   ]
  }
 ],
 "metadata": {
  "kernelspec": {
   "display_name": "ArcGISPro",
   "language": "Python",
   "name": "python3"
  },
  "language_info": {
   "file_extension": ".py",
   "name": "python",
   "version": "3"
  }
 },
 "nbformat": 4,
 "nbformat_minor": 2
}

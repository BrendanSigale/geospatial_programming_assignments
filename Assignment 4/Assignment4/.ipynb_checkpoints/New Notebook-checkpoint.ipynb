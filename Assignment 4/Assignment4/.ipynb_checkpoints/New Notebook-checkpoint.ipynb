{
 "cells": [
  {
   "cell_type": "code",
   "execution_count": null,
   "metadata": {},
   "outputs": [],
   "source": [
    "###################################################################### \n",
    "# Problem 1 (20 points)\n",
    "# \n",
    "# Given an input point feature class (e.g., facilities or hospitals) and a polyline feature class, i.e., bike_routes:\n",
    "# Calculate the distance of each facility to the closest bike route and append the value to a new field.\n",
    "#        \n",
    "###################################################################### \n",
    "def calculateDistanceFromPointsToPolylines(input_geodatabase, fcPoint, fcPolyline):\n",
    "    "
   ]
  },
  {
   "cell_type": "code",
   "execution_count": null,
   "metadata": {},
   "outputs": [],
   "source": [
    "######################################################################\n",
    "# Problem 2 (30 points)\n",
    "# \n",
    "# Given an input point feature class, i.e., facilities, with a field name (FACILITY) and a value ('NURSING HOME'), and a polygon feature class, i.e., block_groups:\n",
    "# Count the number of the given type of point features (NURSING HOME) within each polygon and append the counts as a new field in the polygon feature class\n",
    "#\n",
    "######################################################################\n",
    "def countPointsByTypeWithinPolygon(input_geodatabase, fcPoint, pointFieldName, pointFieldValue, fcPolygon):\n",
    "    pass"
   ]
  },
  {
   "cell_type": "code",
   "execution_count": null,
   "metadata": {},
   "outputs": [],
   "source": [
    "######################################################################\n",
    "# Problem 3 (50 points)\n",
    "# \n",
    "# Given a polygon feature class, i.e., block_groups, and a point feature class, i.e., facilities,\n",
    "# with a field name within point feature class that can distinguish categories of points (i.e., FACILITY);\n",
    "# count the number of points for every type of point features (NURSING HOME, LIBRARY, HEALTH CENTER, etc.) within each polygon and\n",
    "# append the counts to a new field with an abbreviation of the feature type (e.g., nursinghome, healthcenter) into the polygon feature class \n",
    "\n",
    "# HINT: If you find an easier solution to the problem than the steps below, feel free to implement.\n",
    "# Below steps are not necessarily explaining all the code parts, but rather a logical workflow for you to get started.\n",
    "# Therefore, you may have to write more code in between these steps.\n",
    "\n",
    "# 1- Extract all distinct values of the attribute (e.g., FACILITY) from the point feature class and save it into a list\n",
    "# 2- Go through the list of values:\n",
    "#    a) Generate a shortened name for the point type using the value in the list by removing the white spaces and taking the first 13 characters of the values.\n",
    "#    b) Create a field in polygon feature class using the shortened name of the point type value.\n",
    "#    c) Perform a spatial join between polygon features and point features using the specific point type value on the attribute (e.g., FACILITY)\n",
    "#    d) Join the counts back to the original polygon feature class, then calculate the field for the point type with the value of using the join count field.\n",
    "#    e) Delete uncessary files and the fields that you generated through the process, including the spatial join outputs.  \n",
    "######################################################################\n",
    "def countCategoricalPointTypesWithinPolygons(fcPoint, pointFieldName, fcPolygon, workspace):\n",
    "    pass"
   ]
  }
 ],
 "metadata": {
  "kernelspec": {
   "display_name": "ArcGISPro",
   "language": "Python",
   "name": "python3"
  },
  "language_info": {
   "file_extension": ".py",
   "name": "python",
   "version": "3"
  }
 },
 "nbformat": 4,
 "nbformat_minor": 2
}
